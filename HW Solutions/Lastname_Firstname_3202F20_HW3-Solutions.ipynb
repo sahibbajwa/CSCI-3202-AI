{
 "cells": [
  {
   "cell_type": "markdown",
   "metadata": {},
   "source": [
    "## <a id='top'></a>\n",
    "\n",
    "# CSCI 3202, Fall 2020\n",
    "# Assignment 2\n",
    "# Due: Monday 16 November 2020 by 11:59 PM\n",
    "\n",
    "<br> \n",
    "\n",
    "### Your name:\n",
    "\n",
    "<br> "
   ]
  },
  {
   "cell_type": "code",
   "execution_count": 1,
   "metadata": {},
   "outputs": [],
   "source": [
    "import numpy as np\n",
    "import matplotlib.pyplot as plt\n",
    "from scipy import stats\n",
    "import scipy.integrate as integrate\n",
    "import unittest\n",
    "import pandas as pd\n",
    "from math import isclose"
   ]
  },
  {
   "cell_type": "markdown",
   "metadata": {},
   "source": [
    "\n",
    "## Problem 1:  EVIU and EVPI\n",
    "\n",
    "Suppose we have an overwhelming sense of exam déjà vu, and we're going to catch the Buff Bus again.  We want to decide at what time $d$ to go wait for it.  We decide to use the the linear loss function \n",
    "\n",
    "$$L(d,x)=\\begin{cases} \n",
    "\t2(x-d) & x\\geq d \\\\\n",
    "\t4(d-x) & x <d\n",
    "    \t\\end{cases}$$.\n",
    "        \n",
    "As in the exam, we model the Buff Bus arrival times as an exponential random variable $X$ that arrives on average once per hour, so they have probability density function of $f(x)=e^{-x}$ for $x>0$ (note: this has mean of $E_X[x]=1$).\n",
    "\n",
    "The result from the exam was that the *expected loss* of the decision $d$ was:\n",
    "$$E_X[L(d,x)] = \\int_0^d 4(d-x)e^{-x}\\, dx + \\int_d^\\infty 2(x-d)e^{-x}\\, dx$$\n",
    "\n",
    "...we maybe tried to avoid doing that integral and reasoned through it, because often such an integral is messy and may require numerical methods.\n",
    "\n",
    "\n",
    "### (1a)  A Loss function:\n",
    "\n",
    "Create a `ExpectedLoss` object or function that takes as input 3 arguments: \n",
    "    - a decision $d$\n",
    "    - a loss function $L(d,x)$\n",
    "    - a probability density $f(x)$\n",
    "\n",
    "and returns the value of $$E_X[L(d,x)]=\\int_{-\\infty}^\\infty L(d,x) f(x) \\, dx$$.\n",
    "\n",
    "Inside your function, you can and should use the scipy.integrate function with documentation: \n",
    "https://docs.scipy.org/doc/scipy/reference/tutorial/integrate.html.\n",
    "\n"
   ]
  },
  {
   "cell_type": "code",
   "execution_count": 2,
   "metadata": {},
   "outputs": [
    {
     "name": "stdout",
     "output_type": "stream",
     "text": [
      "12.109893833332405\n",
      "12.109893833358228\n"
     ]
    }
   ],
   "source": [
    "#Option 1: hard coded to this problem\n",
    "def ExpectedLoss1(d):\n",
    "    d=d\n",
    "    lower = lambda x: 4*(d-x)*np.exp(-x)\n",
    "    upper= lambda x: 2*(x-d)*np.exp(-x)\n",
    "    return integrate.quad(lower, 0, d)[0]+integrate.quad(upper, d, np.inf)[0]\n",
    "\n",
    "#Option 2: more general\n",
    "def loss(x,d):\n",
    "    if x>=d:\n",
    "        return 2*(x-d)\n",
    "    else: return 4*(d-x)\n",
    "\n",
    "def density(x):\n",
    "    return np.exp(-x)\n",
    "\n",
    "def ExpectedLoss(d,density, loss):\n",
    "    d=d\n",
    "    integrand= lambda x: loss(x,d)*density(x)\n",
    "    return integrate.quad(integrand, 0, np.inf)[0]\n",
    "print(ExpectedLoss1(4))\n",
    "print(ExpectedLoss(4, density, loss))"
   ]
  },
  {
   "cell_type": "markdown",
   "metadata": {},
   "source": [
    "## (1b) A quick check:\n",
    "Double check that your integrate code is working well on the infinite support of the exponential random variable.  Check that you in fact get $$E[X]=\\int_0^\\infty e^{-x} \\, dx=1$$ from your usage of `integrate` above."
   ]
  },
  {
   "cell_type": "code",
   "execution_count": 3,
   "metadata": {},
   "outputs": [
    {
     "data": {
      "text/plain": [
       "1.0000000000000002"
      ]
     },
     "execution_count": 3,
     "metadata": {},
     "output_type": "execute_result"
    }
   ],
   "source": [
    "Exp1 = lambda x: np.exp(-x)\n",
    "integrate.quad(Exp1, 0, np.inf)[0]"
   ]
  },
  {
   "cell_type": "markdown",
   "metadata": {},
   "source": [
    "## (1c) Scoring Decisions:\n",
    "Our goal is typically to compare the losses of 3 decision types:\n",
    " - the decision made \"ignoring uncertainty,\" using $d=E[X]$\n",
    " - the decision made with \"perfect information\", using $d=x$\n",
    " - the decision made with uncertainty to minimize loss, the Bayes' decision.\n",
    " \n",
    "1. Use your function in (1a) to compute the expected loss when ignoring uncertainty.\n",
    "\n",
    "2. Use your function in (1a) or reason to compute the expected loss with perfect information.\n",
    "\n",
    "3. Use your function in (1a) to *plot* the expected loss for a fine grid (`linspace`) of $d$ values from 0 to 10.  Given this plot, visually estimate the optimal decision $d$ and its expected loss."
   ]
  },
  {
   "cell_type": "code",
   "execution_count": 4,
   "metadata": {},
   "outputs": [
    {
     "name": "stdout",
     "output_type": "stream",
     "text": [
      "Loss Ignoring Uncertainty: 2.2072766470286536\n",
      "Loss with Perfect Information: 0\n",
      "Loss as function of d:\n"
     ]
    },
    {
     "data": {
      "image/png": "[encoded data removed]",
      "text/plain": [
       "<matplotlib.figure.Figure at 0x25779b9e080>"
      ]
     },
     "metadata": {},
     "output_type": "display_data"
    }
   ],
   "source": [
    "print('Loss Ignoring Uncertainty:', ExpectedLoss(1, density, loss))\n",
    "print('Loss with Perfect Information:', 0) #it's the global minimum of the loss function, technically\n",
    "dgrid=np.linspace(0,10,1000)\n",
    "lossgrid=[ExpectedLoss(i, density, loss) for i in dgrid]\n",
    "plt.plot(dgrid, lossgrid)\n",
    "print('Loss as function of d:',)\n"
   ]
  },
  {
   "cell_type": "markdown",
   "metadata": {},
   "source": [
    "## (1d) Optimizing Decisions:\n",
    "Since the Bayes' decision should be the minimum of the function in (1a), we can use another numeric method in Python to find it exactly!  Check out `scipy.optimize` https://docs.scipy.org/doc/scipy/reference/tutorial/optimize.html and use it to find the Bayes' decision.\n",
    "\n",
    "For convenience, you may restructure your code in (1a) to get the loss function while only $d$ as taken as an input."
   ]
  },
  {
   "cell_type": "code",
   "execution_count": 5,
   "metadata": {},
   "outputs": [
    {
     "name": "stdout",
     "output_type": "stream",
     "text": [
      "Bayes decision was  [0.40546843]\n"
     ]
    }
   ],
   "source": [
    "import scipy\n",
    "def loss_d(d):\n",
    "    return ExpectedLoss(d, density, loss)\n",
    "optim=scipy.optimize.minimize(loss_d, 1)\n",
    "\n",
    "print('Bayes decision was ', optim['x'])"
   ]
  },
  {
   "cell_type": "markdown",
   "metadata": {},
   "source": [
    "## (1e) Bigger Losses\n",
    "$$L_l(d,x)=\\begin{cases} \n",
    "\t20(d-x) & x \\leq d \\\\\n",
    "\t200+20(d-x) & x> d \\\\\t\t\n",
    "\t\\end{cases}$$.\n",
    "    \n",
    "Consider instead the loss function above, which contains a large jump at $x=d$.  Use your `ExpectedLoss` and/or `optimize` routines to find the Bayes' decision for the bus-waiting problem in this case, where a large amount of utility is lost as soon as $x>d$ (or we miss the bus).  Does your result here seem intuitive, given the Bayes' decision in parts (1c/1d)?"
   ]
  },
  {
   "cell_type": "code",
   "execution_count": 6,
   "metadata": {},
   "outputs": [
    {
     "name": "stdout",
     "output_type": "stream",
     "text": [
      "Here is the loss function at d=4:\n"
     ]
    },
    {
     "data": {
      "image/png": "[encoded data removed]",
      "text/plain": [
       "<matplotlib.figure.Figure at 0x25779c7a0f0>"
      ]
     },
     "metadata": {},
     "output_type": "display_data"
    }
   ],
   "source": [
    "def loss(x,d):\n",
    "    if x<=d:\n",
    "        return 20*(d-x)\n",
    "    else: return 200+20*(d-x)\n",
    "    \n",
    "d=4\n",
    "xgrid=np.linspace(0,10,1000)\n",
    "plt.plot(xgrid, [loss(x,d) for x in xgrid])\n",
    "print('Here is the loss function at d=4:')"
   ]
  },
  {
   "cell_type": "code",
   "execution_count": 7,
   "metadata": {},
   "outputs": [
    {
     "name": "stdout",
     "output_type": "stream",
     "text": [
      "Bayes decision was  2.302588219259909\n",
      "Loss as function of d:\n"
     ]
    },
    {
     "data": {
      "image/png": "[encoded data removed]",
      "text/plain": [
       "<matplotlib.figure.Figure at 0x25779bd9e80>"
      ]
     },
     "metadata": {},
     "output_type": "display_data"
    }
   ],
   "source": [
    "def loss(x,d):\n",
    "    if x<=d:\n",
    "        return 20*(d-x)\n",
    "    else: return 200+20*(d-x)\n",
    "\n",
    "def density(x):\n",
    "    if x>=0:\n",
    "        return np.exp(-x)\n",
    "    else: return 0\n",
    "\n",
    "def ExpectedLoss(d,density, loss):\n",
    "    d=d\n",
    "    integrand= lambda x: loss(x,d)*density(x)\n",
    "    return integrate.quad(integrand, -np.inf, np.inf)[0]\n",
    "\n",
    "def loss_d(d):\n",
    "    return ExpectedLoss(d, density, loss)\n",
    "# optim=scipy.optimize.minimize(loss_d, 1)\n",
    "# print('Bayes decision was ', optim['x'])\n",
    "#Oof, this one thinks we need to show up in the past: the d-x should be x-d to \"work\" for d<0\n",
    "\n",
    "optim=scipy.optimize.minimize_scalar(loss_d, [0,1,3,4, 10], bounds=(0,4), method='bounded')\n",
    "print('Bayes decision was ', optim['x'])\n",
    "\n",
    "dgrid=np.linspace(-2,10,1000)\n",
    "lossgrid=[ExpectedLoss(i, density, loss) for i in dgrid]\n",
    "plt.plot(dgrid, lossgrid)\n",
    "print('Loss as function of d:',)\n"
   ]
  },
  {
   "cell_type": "code",
   "execution_count": 8,
   "metadata": {},
   "outputs": [
    {
     "name": "stdout",
     "output_type": "stream",
     "text": [
      "Here is the loss function at d=4:\n"
     ]
    },
    {
     "data": {
      "image/png": "[encoded data removed]",
      "text/plain": [
       "<matplotlib.figure.Figure at 0x25779d0f438>"
      ]
     },
     "metadata": {},
     "output_type": "display_data"
    }
   ],
   "source": [
    "#alternative loss function here:\n",
    "\n",
    "def loss(x,d):\n",
    "    if x>=d:\n",
    "        return -20*(d-x)\n",
    "    else: return 200+20*(d-x)\n",
    "    \n",
    "d=4\n",
    "xgrid=np.linspace(0,10,1000)\n",
    "plt.plot(xgrid, [loss(x,d) for x in xgrid])\n",
    "print('Here is the loss function at d=4:')"
   ]
  },
  {
   "cell_type": "code",
   "execution_count": 9,
   "metadata": {},
   "outputs": [
    {
     "name": "stdout",
     "output_type": "stream",
     "text": [
      "Bayes decision was  0.002139266207206869\n",
      "Loss as function of d:\n"
     ]
    },
    {
     "data": {
      "image/png": "[encoded data removed]",
      "text/plain": [
       "<matplotlib.figure.Figure at 0x25779c90b38>"
      ]
     },
     "metadata": {},
     "output_type": "display_data"
    }
   ],
   "source": [
    "\n",
    "    \n",
    "def density(x):\n",
    "    if x>=0:\n",
    "        return np.exp(-x)\n",
    "    else: return 0\n",
    "\n",
    "def ExpectedLoss(d,density, loss):\n",
    "    d=d\n",
    "    integrand= lambda x: loss(x,d)*density(x)\n",
    "    return integrate.quad(integrand, -np.inf, np.inf)[0]\n",
    "\n",
    "def loss_d(d):\n",
    "    return ExpectedLoss(d, density, loss)\n",
    "# optim=scipy.optimize.minimize(loss_d, 1)\n",
    "# print('Bayes decision was ', optim['x'])\n",
    "#Oof, this one thinks we need to show up in the past: the d-x should be x-d to \"work\" for d<0\n",
    "\n",
    "optim=scipy.optimize.minimize_scalar(loss_d, 1, bounds=(0,10), method='bounded')\n",
    "print('Bayes decision was ', optim['x'])\n",
    "\n",
    "dgrid=np.linspace(-2,10,1000)\n",
    "lossgrid=[ExpectedLoss(i, density, loss) for i in dgrid]\n",
    "plt.plot(dgrid, lossgrid)\n",
    "print('Loss as function of d:',)\n"
   ]
  },
  {
   "cell_type": "markdown",
   "metadata": {},
   "source": [
    "\n",
    "## Problem 2:  Bayesian network to model heart disease\n",
    "\n",
    "The following Bayesian network is based loosely on a study that examined heart disease risk factors in 167 elderly individuals in South Carolina.  Note that this figure uses Y and N to represent Yes and No, whereas in class we used the equivalent T and F to represent True and False Boolean values.\n",
    "\n",
    "<img src=\"http://www.cs.colorado.edu/~tonyewong/home/resources/hw05_bayesnet_heartdisease.png\" style=\"width: 650px;\"/>"
   ]
  },
  {
   "cell_type": "markdown",
   "metadata": {},
   "source": [
    "<a id='p1a'></a>\n",
    "\n",
    "### (2a) \n",
    "\n",
    "Create a `BayesNet` object to model this.  Below are the codes for the (conditional) probability `P` function and `BayesNode` class as well, that we used in class on Monday (9 March) to represent the variable nodes and calculate probabilities. You can code this however you want, subject to the following constraints:\n",
    "1. the nodes are represented using the `BayesNode` class and can work with the `P` function for probabilities,\n",
    "1. your `BayesNet` structure keeps track of which nodes are in the Bayes net, as well as\n",
    "1. which nodes are the parents/children of which other nodes.\n",
    "\n",
    "Some *suggested* skeleton codes for a class structure are given. You are free and encouraged to use the code from our in-class notebooks on Bayes Nets and Markov Models. The point of this exercise is to make sure you understand the example from class. The suggestions for methods to implement are in view of the fact that we will need to calculate some probabilities, which is going to require us to `find_node`s and `find_values` that nodes can take on."
   ]
  },
  {
   "cell_type": "code",
   "execution_count": 10,
   "metadata": {},
   "outputs": [],
   "source": [
    "## For the sake of brevity...\n",
    "T, F = True, False\n",
    "\n",
    "## From class:\n",
    "def P(var, value, evidence={}):\n",
    "    '''The probability distribution for P(var | evidence), \n",
    "    when all parent variables are known (in evidence)'''\n",
    "    if len(var.parents)==1:\n",
    "        # only one parent\n",
    "        row = evidence[var.parents[0]]\n",
    "    else:\n",
    "        # multiple parents\n",
    "        row = tuple(evidence[parent] for parent in var.parents)\n",
    "    return var.cpt[row] if value else 1-var.cpt[row]\n",
    "\n",
    "## Also from class:\n",
    "class BayesNode:\n",
    "    \n",
    "    def __init__(self, name, parents, values, cpt):\n",
    "        if isinstance(parents, str):\n",
    "            parents = parents.split()\n",
    "            \n",
    "        if len(parents)==0:\n",
    "            # if no parents, empty dict key for cpt\n",
    "            cpt = {(): cpt}\n",
    "        elif isinstance(cpt, dict):\n",
    "            # if there is only one parent, only one tuple argument\n",
    "            if cpt and isinstance(list(cpt.keys())[0], bool):\n",
    "                cpt = {(v): p for v, p in cpt.items()}\n",
    "\n",
    "        self.variable = name\n",
    "        self.parents = parents\n",
    "        self.cpt = cpt\n",
    "        self.values = values\n",
    "        self.children = []\n",
    "        \n",
    "    def __repr__(self):\n",
    "        return repr((self.variable, ' '.join(self.parents)))    \n",
    "\n",
    "    \n",
    "##===============================================##\n",
    "## Suggested skeleton codes for a BayesNet class ##\n",
    "##===============================================##\n",
    "\n",
    "class BayesNet:\n",
    "    '''Bayesian network containing only boolean-variable nodes.'''\n",
    "\n",
    "    def __init__(self, nodes):\n",
    "        '''Initialize the Bayes net by adding each of the nodes,\n",
    "        which should be a list BayesNode class objects ordered\n",
    "        from parents to children (`top` to `bottom`, from causes\n",
    "        to effects)'''\n",
    "        \n",
    "        # your code goes here...\n",
    "        \n",
    "        # Solution:\n",
    "        self.nodes = []\n",
    "        self.variables = []\n",
    "        if nodes:\n",
    "            for node in nodes:\n",
    "                self.add(node)\n",
    "\n",
    "                \n",
    "    def add(self, node):\n",
    "        '''Add a new BayesNode to the BayesNet. The parents should all\n",
    "        already be in the net, and the variable itself should not be'''\n",
    "        assert node.variable not in self.variables\n",
    "        assert all((parent in self.variables) for parent in node.parents)\n",
    "        \n",
    "        # your code goes here...\n",
    "        \n",
    "        # Solution:\n",
    "        self.nodes.append(node)\n",
    "        self.variables.append(node.variable)\n",
    "        for parent in node.parents:\n",
    "            self.find_node(parent).children.append(node)\n",
    "\n",
    "            \n",
    "    def find_node(self, var):\n",
    "        '''Find and return the BayesNode in the net with name `var`'''\n",
    "        \n",
    "        # your code goes here...\n",
    "        \n",
    "        # Solution:\n",
    "        for n in self.nodes:\n",
    "            if n.variable == var:\n",
    "                return n\n",
    "        raise Exception(\"No such variable: {}\".format(var))\n",
    "\n",
    "        \n",
    "    def find_values(self, var):\n",
    "        '''Return the set of possible values for variable `var`'''\n",
    "        \n",
    "        # your code goes here...\n",
    "        \n",
    "        # Solution:\n",
    "        varnode = self.find_node(var)\n",
    "        return varnode.values\n",
    "\n",
    "    \n",
    "    def __repr__(self):\n",
    "        return 'BayesNet({})'.format(self.nodes)"
   ]
  },
  {
   "cell_type": "code",
   "execution_count": 11,
   "metadata": {},
   "outputs": [],
   "source": [
    "\n",
    "# Create a Bayes net with those nodes and connections\n",
    "# Solution:\n",
    "\n",
    "# Define the nodes\n",
    "Sm = BayesNode('Sm', '', [T,F], 0.2)\n",
    "ME = BayesNode('ME', '', [T,F], 0.5)\n",
    "HBP = BayesNode('HBP', ['Sm', 'ME'], [T,F], {(T, T): 0.6, (T, F): 0.72, (F, T): 0.33, (F, F): 0.51})\n",
    "Ath = BayesNode('Ath', '', [T,F], 0.53)\n",
    "FH = BayesNode('FH', '', [T,F], 0.15)\n",
    "HD = BayesNode('HD', ['Ath', 'HBP', 'FH'], [T,F], \n",
    "               {(T, T, T): 0.92, (T, T, F): 0.91, (T, F, T): 0.81, (T, F, F): 0.77,\n",
    "                (F, T, T): 0.75, (F, T, F): 0.69, (F, F, T): 0.38, (F, F, F): 0.23})\n",
    "Ang = BayesNode('Ang', 'HD', [T,F], {T: 0.85, F: 0.4})\n",
    "Rapid = BayesNode('Rapid', 'HD', [T,F], {T: 0.99, F: 0.3})\n",
    "\n",
    "# Create a Bayes net with those nodes and connections\n",
    "bnHeart = BayesNet([Sm, ME, HBP, Ath, FH, HD, Ang, Rapid])"
   ]
  },
  {
   "cell_type": "code",
   "execution_count": 12,
   "metadata": {},
   "outputs": [],
   "source": [
    "class Tests_Problem2(unittest.TestCase):\n",
    "    def setUp(self):\n",
    "        self.p1 = BayesNode('p1', '', [T,F], 0.3)\n",
    "        self.p2 = BayesNode('p2', '', [T,F], 0.6)\n",
    "        self.c  = BayesNode('c', ['p1', 'p2'], [T,F], {(T,T):0.1, (T,F):0.2, (F,T):0.3, (F,F):0.4})\n",
    "    def test_onenode(self):\n",
    "        self.assertEqual(P(self.p1, T), 0.3)\n",
    "    def test_twonode(self):\n",
    "        self.assertEqual(P(self.c, F, {'p1':T, 'p2':F}), 0.8)"
   ]
  },
  {
   "cell_type": "code",
   "execution_count": 13,
   "metadata": {},
   "outputs": [
    {
     "name": "stderr",
     "output_type": "stream",
     "text": [
      "..\n",
      "----------------------------------------------------------------------\n",
      "Ran 2 tests in 0.002s\n",
      "\n",
      "OK\n"
     ]
    },
    {
     "data": {
      "text/plain": [
       "<unittest.runner.TextTestResult run=2 errors=0 failures=0>"
      ]
     },
     "execution_count": 13,
     "metadata": {},
     "output_type": "execute_result"
    }
   ],
   "source": [
    "tests_to_run = unittest.TestSuite()\n",
    "tests_to_run.addTest(Tests_Problem2(\"test_onenode\"))\n",
    "tests_to_run.addTest(Tests_Problem2(\"test_twonode\"))\n",
    "unittest.TextTestRunner().run(tests_to_run)"
   ]
  },
  {
   "cell_type": "markdown",
   "metadata": {},
   "source": [
    "\n",
    "### (2b)\n",
    "\n",
    "Craft a function `get_prob(X, e, bn)` to return the **normalized** probability distribution of variable `X` in Bayes net `bn`, given the evidence `e`.  That is, return $P(X \\mid e)$. The arguments are:\n",
    "* `X` is some representation of the variable you are querying the probability distribution of. Either a string (the variable name from the `BayesNode` or a `BayesNode` object itself are good options.\n",
    "* `e` is some representation of the evidence your probability is conditioned on. When given an empty argument (or `None`) for `e`, `get_prob` should return the marginal distribution $P(X)$.\n",
    "* `bn` is your `BayesNet` object.\n",
    "\n",
    "You may do this using the `enumeration` algorithm from class (pseudocode is in the book), or by brute force (i.e., use a few `for` loops). Either way, you should be using your `BayesNet` object to keep track of all the nodes and relationships between nodes so your `get_prob` function knows these things.\n",
    "\n",
    "Suggest implementation is below, where we use the `PDF_discrete` class and its associated functions as we did in the Bayes Nets in class notebook."
   ]
  },
  {
   "cell_type": "code",
   "execution_count": 14,
   "metadata": {},
   "outputs": [],
   "source": [
    "# Solution:\n",
    "\n",
    "class PDF_discrete:\n",
    "    '''Define a discrete probability distribution function.'''\n",
    "\n",
    "    def __init__(self, varname='?', freqs=None):\n",
    "        '''Create a dictionary of values - frequency pairs,\n",
    "        then normalize the distribution to sum to 1.'''\n",
    "        self.prob = {}\n",
    "        self.varname = varname\n",
    "        self.values = []\n",
    "        if freqs:\n",
    "            for (v, p) in freqs.items():\n",
    "                self[v] = p\n",
    "        self.normalize()\n",
    "\n",
    "    def __getitem__(self, value):\n",
    "        '''Given a value, return P[value]'''\n",
    "        try:\n",
    "            return self.prob[value]\n",
    "        except KeyError:\n",
    "            return 0\n",
    "\n",
    "    def __setitem__(self, value, p):\n",
    "        '''Set P[value] = p, input argument if '''\n",
    "        if value not in self.values:\n",
    "            self.values.append(value)\n",
    "        self.prob[value] = p\n",
    "\n",
    "    def normalize(self):\n",
    "        '''Normalize the probability distribution and return it.\n",
    "        If the sum of PDF values is 0, then return a 0'''\n",
    "        total = sum(self.prob.values())\n",
    "        if not isclose(total, 1.0):\n",
    "            for value in self.prob:\n",
    "                self.prob[value] /= total\n",
    "        return self\n",
    "    \n",
    "def extend(s, var, val):\n",
    "    \"\"\"Copy the substitution s and extend it by setting var to val; return copy.\"\"\"\n",
    "    s2 = s.copy()\n",
    "    s2[var] = val\n",
    "    return s2\n",
    "\n",
    "def get_prob(X, e, bn):\n",
    "    '''Return the conditional probability distribution of variable X\n",
    "    given evidence e, from BayesNet bn. [Figure 14.9]'''\n",
    "    Q = PDF_discrete(X)\n",
    "    for xi in bn.find_values(X):\n",
    "        Q[xi] = enumerate_all(bn.variables, extend(e, X, xi), bn)\n",
    "    return Q.normalize()\n",
    "\n",
    "\n",
    "def enumerate_all(variables, e, bn):\n",
    "    '''Return the sum of those entries in P(variables | e{others})\n",
    "    consistent with e, where P is the joint distribution represented\n",
    "    by bn, and e{others} means e restricted to bn's other variables\n",
    "    (the ones other than variables). Parents must precede children in variables.'''\n",
    "    if not variables:\n",
    "        return 1.0\n",
    "    Y, rest = variables[0], variables[1:]\n",
    "    Ynode = bn.find_node(Y)\n",
    "    if Y in e:\n",
    "        # Y in evidence, so we know its value and just multiply\n",
    "        return P(Ynode, e[Y], e) * enumerate_all(rest, e, bn)\n",
    "    else:\n",
    "        # Y not in evidence so we have to sum (Law of Total Prob.)    \n",
    "        return sum(P(Ynode, y, e) * enumerate_all(rest, extend(e, Y, y), bn)\n",
    "                   for y in bn.find_values(Y))"
   ]
  },
  {
   "cell_type": "markdown",
   "metadata": {},
   "source": [
    "### (2c)\n",
    "Use your `get_prob` function to calculate the following probabilities. Print them to the screen and compare to the original Bayes net figure given to make sure the output passes these \"unit tests\".\n",
    "\n",
    "1. The marginal probability of `Family History` is $P(FH=T)=0.15$\n",
    "2. The probability of *not* experiencing `Angina Pectoris`, given `Heart Disease` is observed, is $P(Ang=F \\mid HD=T)=1-0.85=0.15$\n",
    "3. The probability of `High Blood Pressure`, given a person does `Smoke and/or use Alcohol` but does not get `Moderate Exercise`, is $P(HBP=T \\mid Sm=T, ME=F)=0.72$\n",
    "4. The probability of an arbitrary individual having Heart Disease,  $P(HD=T)$\n",
    "5. The probability that an individual does not have Heart Disease, given that Rapid Heartbeat was observed,  $P(HD=F∣Rapid=T)$\n",
    "6. The probability that an individual is a `Smoker/Alcohol User` if they have `Heart Disease`, $P(Sm=T \\mid HD=T)$\n",
    "7. How would you expect the probability in 6. to change if you also know the individual has `High Blood Pressure`?  Verify your hypothesis by calculating the relevant probability."
   ]
  },
  {
   "cell_type": "code",
   "execution_count": 15,
   "metadata": {},
   "outputs": [
    {
     "name": "stdout",
     "output_type": "stream",
     "text": [
      "1. P(FH)= {True: 0.15, False: 0.85}\n",
      "\n",
      "2. P(Ang | HD=T)= {True: 0.85, False: 0.15000000000000002}\n",
      "\n",
      "3. P(HBP | Sm=T, ME=T)= {True: 0.7199999999999999, False: 0.28}\n",
      "\n",
      "4. P(HD)={True: 0.6617765600000001, False: 0.33822343999999993}\n",
      "\n",
      "5. P(HD | Rapid=T)={True: 0.865895362727999, False: 0.13410463727200098}\n",
      "\n",
      "6. P(Sm | HD=T)={True: 0.2163440784303391, False: 0.7836559215696609}\n",
      "\n",
      "7. P(Sm | HD=T, HBP=T)={True: 0.28205128205128205, False: 0.717948717948718}\n",
      "\n"
     ]
    }
   ],
   "source": [
    "# Solution:\n",
    "p1 = get_prob(X='FH', e={}, bn=bnHeart)\n",
    "print('1. P(FH)=',p1.prob)\n",
    "print('')\n",
    "\n",
    "p2 = get_prob(X='Ang', e={'HD' : T}, bn=bnHeart)\n",
    "print('2. P(Ang | HD=T)=',p2.prob)\n",
    "print('')\n",
    "\n",
    "p3 = get_prob(X='HBP', e={'Sm' : T, 'ME' : F}, bn=bnHeart)\n",
    "print('3. P(HBP | Sm=T, ME=T)=',p3.prob)\n",
    "print('')\n",
    "\n",
    "p4 = get_prob(X='HD', e={}, bn=bnHeart)\n",
    "print('4. P(HD)={}'.format(p4.prob))\n",
    "print('')\n",
    "\n",
    "p5 = get_prob(X='HD', e={'Rapid' : T}, bn=bnHeart)\n",
    "print('5. P(HD | Rapid=T)={}'.format(p5.prob))\n",
    "print('')\n",
    "\n",
    "p6 = get_prob(X='Sm', e={'HD' : T}, bn=bnHeart)\n",
    "print('6. P(Sm | HD=T)={}'.format(p6.prob))\n",
    "print('')\n",
    "\n",
    "p7 = get_prob(X='Sm', e={'HD' : T, 'HBP' :T}, bn=bnHeart)\n",
    "print('7. P(Sm | HD=T, HBP=T)={}'.format(p7.prob))\n",
    "print('')\n"
   ]
  },
  {
   "cell_type": "markdown",
   "metadata": {},
   "source": [
    "In query number 7, the increase in the *conditional* probability of smoker increases *given* the added evidence that they have high blood pressure, which seems to make sense!"
   ]
  },
  {
   "cell_type": "markdown",
   "metadata": {},
   "source": [
    "### (2d)\n",
    "Rather than exact calculations, we can also *simulate* on a Bayesian Network.  Simulate 10000 hypothetical elderly individuals from South Carolina on the given network.  Using logicals, compute the probabilities in numbers (6.) and (7.) of part (2c) and verify that they are approximately equivalent.\n",
    "\n",
    "No API is required here, but your final result should print the empirical (simulated) probabilities next to the exact theoretical results for these two outcomes from (2c)."
   ]
  },
  {
   "cell_type": "code",
   "execution_count": 16,
   "metadata": {},
   "outputs": [],
   "source": [
    "#All we actually need was in the earlier BayesNodes, but we need the CPTs themselves!\n",
    "df = pd.DataFrame({}, columns=['Sm', 'ME','HBP','Ath','FH','HD','Ang','Rapid'])"
   ]
  },
  {
   "cell_type": "code",
   "execution_count": 17,
   "metadata": {},
   "outputs": [
    {
     "data": {
      "text/html": [
       "<div>\n",
       "<style scoped>\n",
       "    .dataframe tbody tr th:only-of-type {\n",
       "        vertical-align: middle;\n",
       "    }\n",
       "\n",
       "    .dataframe tbody tr th {\n",
       "        vertical-align: top;\n",
       "    }\n",
       "\n",
       "    .dataframe thead th {\n",
       "        text-align: right;\n",
       "    }\n",
       "</style>\n",
       "<table border=\"1\" class=\"dataframe\">\n",
       "  <thead>\n",
       "    <tr style=\"text-align: right;\">\n",
       "      <th></th>\n",
       "      <th>Sm</th>\n",
       "      <th>ME</th>\n",
       "      <th>HBP</th>\n",
       "      <th>Ath</th>\n",
       "      <th>FH</th>\n",
       "      <th>HD</th>\n",
       "      <th>Ang</th>\n",
       "      <th>Rapid</th>\n",
       "    </tr>\n",
       "  </thead>\n",
       "  <tbody>\n",
       "    <tr>\n",
       "      <th>0</th>\n",
       "      <td>True</td>\n",
       "      <td>False</td>\n",
       "      <td>True</td>\n",
       "      <td>True</td>\n",
       "      <td>False</td>\n",
       "      <td>True</td>\n",
       "      <td>True</td>\n",
       "      <td>True</td>\n",
       "    </tr>\n",
       "    <tr>\n",
       "      <th>1</th>\n",
       "      <td>True</td>\n",
       "      <td>False</td>\n",
       "      <td>True</td>\n",
       "      <td>True</td>\n",
       "      <td>False</td>\n",
       "      <td>True</td>\n",
       "      <td>True</td>\n",
       "      <td>True</td>\n",
       "    </tr>\n",
       "    <tr>\n",
       "      <th>2</th>\n",
       "      <td>False</td>\n",
       "      <td>False</td>\n",
       "      <td>False</td>\n",
       "      <td>False</td>\n",
       "      <td>False</td>\n",
       "      <td>False</td>\n",
       "      <td>True</td>\n",
       "      <td>True</td>\n",
       "    </tr>\n",
       "    <tr>\n",
       "      <th>3</th>\n",
       "      <td>False</td>\n",
       "      <td>False</td>\n",
       "      <td>False</td>\n",
       "      <td>True</td>\n",
       "      <td>False</td>\n",
       "      <td>False</td>\n",
       "      <td>True</td>\n",
       "      <td>False</td>\n",
       "    </tr>\n",
       "    <tr>\n",
       "      <th>4</th>\n",
       "      <td>True</td>\n",
       "      <td>False</td>\n",
       "      <td>False</td>\n",
       "      <td>False</td>\n",
       "      <td>False</td>\n",
       "      <td>False</td>\n",
       "      <td>False</td>\n",
       "      <td>False</td>\n",
       "    </tr>\n",
       "  </tbody>\n",
       "</table>\n",
       "</div>"
      ],
      "text/plain": [
       "      Sm     ME    HBP    Ath     FH     HD    Ang  Rapid\n",
       "0   True  False   True   True  False   True   True   True\n",
       "1   True  False   True   True  False   True   True   True\n",
       "2  False  False  False  False  False  False   True   True\n",
       "3  False  False  False   True  False  False   True  False\n",
       "4   True  False  False  False  False  False  False  False"
      ]
     },
     "execution_count": 17,
     "metadata": {},
     "output_type": "execute_result"
    }
   ],
   "source": [
    "#For 10000 samples...\n",
    "for i in range(10000):   \n",
    "    #Randomly sample variables from top-to-bottom on the network, where children probabilities depend on parent values\n",
    "    #Parentless variables\n",
    "    Smsim=np.random.choice([T,F], p=[Sm.cpt[()],1-Sm.cpt[()]])\n",
    "    MEsim=np.random.choice([T,F], p=[ME.cpt[()],1-ME.cpt[()]])\n",
    "    Athsim=np.random.choice([T,F], p=[Ath.cpt[()],1-Ath.cpt[()]])\n",
    "    FHsim=np.random.choice([T,F], p=[FH.cpt[()],1-FH.cpt[()]])\n",
    "    #the rest\n",
    "    HBPsim=np.random.choice([T,F], p=[HBP.cpt[(Smsim, MEsim)],1-HBP.cpt[(Smsim, MEsim)]])\n",
    "    HDsim=np.random.choice([T,F], p=[HD.cpt[(Athsim, HBPsim, FHsim)],1-HD.cpt[(Athsim, HBPsim, FHsim)]])\n",
    "    Angsim=np.random.choice([T,F], p=[Ang.cpt[HDsim],1-Ang.cpt[HDsim]])\n",
    "    Rapidsim=np.random.choice([T,F], p=[Rapid.cpt[HDsim],1-Rapid.cpt[HDsim]])\n",
    "    df.loc[i]=[Smsim, MEsim, HBPsim, Athsim, FHsim, HDsim, Angsim, Rapidsim]\n",
    "\n",
    "df.head()"
   ]
  },
  {
   "cell_type": "code",
   "execution_count": 18,
   "metadata": {},
   "outputs": [
    {
     "name": "stdout",
     "output_type": "stream",
     "text": [
      "6. EXACT P(Sm | HD=T)={True: 0.2163440784303391, False: 0.7836559215696609}\n",
      "6. SIMULATED P(Sm=True| HD=T)=0.20930232558139536\n",
      "\n",
      "7. EXACT P(Sm | HD=T, HBP=T)={True: 0.28205128205128205, False: 0.717948717948718}\n",
      "7. SIMULATED P(Sm=True | HD=T, HBP=T)=0.27279957582184516\n"
     ]
    }
   ],
   "source": [
    "#Comparing:\n",
    "print('6. EXACT P(Sm | HD=T)={}'.format(p6.prob))\n",
    "print('6. SIMULATED P(Sm=True| HD=T)={}'.format(np.sum((df['Sm']==T) & (df['HD']==T))/(np.sum(df['HD']==T))))\n",
    "\n",
    "print('')\n",
    "\n",
    "print('7. EXACT P(Sm | HD=T, HBP=T)={}'.format(p7.prob))\n",
    "print('7. SIMULATED P(Sm=True | HD=T, HBP=T)={}'.\\\n",
    "      format(np.sum((df['Sm']==T) & (df['HD']==T) & (df['HBP']==T))/np.sum(((df['HD']==T) & (df['HBP']==T)))))\n"
   ]
  }
 ],
 "metadata": {
  "kernelspec": {
   "display_name": "Python 3",
   "language": "python",
   "name": "python3"
  },
  "language_info": {
   "codemirror_mode": {
    "name": "ipython",
    "version": 3
   },
   "file_extension": ".py",
   "mimetype": "text/x-python",
   "name": "python",
   "nbconvert_exporter": "python",
   "pygments_lexer": "ipython3",
   "version": "3.8.5"
  }
 },
 "nbformat": 4,
 "nbformat_minor": 4
}
