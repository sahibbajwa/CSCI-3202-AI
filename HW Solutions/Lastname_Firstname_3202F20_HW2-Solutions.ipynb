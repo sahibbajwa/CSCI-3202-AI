{
 "cells": [
  {
   "cell_type": "markdown",
   "metadata": {},
   "source": [
    "## <a id='top'></a>\n",
    "\n",
    "# CSCI 3202, Fall 2020\n",
    "# Assignment 2\n",
    "# Due: Friday 25 September 2020 by 11:59 PM\n",
    "\n",
    "<br> \n",
    "\n",
    "### Your name:\n",
    "\n",
    "<br> "
   ]
  },
  {
   "attachments": {
    "image.png": {
     "image/png": "[encoded data removed]"
    }
   },
   "cell_type": "markdown",
   "metadata": {},
   "source": [
    "## Problem 1 (15 points)\n",
    "\n",
    "Consider the directed state space graph below.\n",
    "\n",
    "![image.png](attachment:image.png)\n",
    "\n",
    "Suppose we wish to find the shortest edge-length path from the start node `S` to the goal node `G`.  Additionally, we have access to the heuristic of \"straight line distance from the given node to `G`.\"\n",
    "\n",
    "\n",
    "For each of the following search algorithms, what is the full route chosen from `S` to `G`?  For any algorithms that require an order by which to choose/queue equivalent nodes, assume that we open nodes alphabetically.\n",
    "\n",
    "#### 1a) Breadth-First Search"
   ]
  },
  {
   "cell_type": "markdown",
   "metadata": {},
   "source": [
    "BFS will find the shortest path in terms of number edges, which is SBHG."
   ]
  },
  {
   "cell_type": "markdown",
   "metadata": {},
   "source": [
    "#### 1b) Depth-First Search"
   ]
  },
  {
   "cell_type": "markdown",
   "metadata": {},
   "source": [
    "DFS will take a while, and will follow a chain that begins with A: AFJIEDCBHG"
   ]
  },
  {
   "cell_type": "markdown",
   "metadata": {},
   "source": [
    "#### 1c) Greedy Best-First, with straight-line-distance heuristic\n"
   ]
  },
  {
   "cell_type": "markdown",
   "metadata": {},
   "source": [
    "The greedy algorithm fails here.  It goes from A to F after which is just loops from FJIFJIFJI, etc."
   ]
  },
  {
   "cell_type": "markdown",
   "metadata": {},
   "source": [
    "#### 1d) A$^*$, with straight-line-distance heuristic\n"
   ]
  },
  {
   "cell_type": "markdown",
   "metadata": {},
   "source": [
    "Straight-line distance is consitent and admissible if the goal metric is edge distance, so A* will find the optimal route of SBHG"
   ]
  },
  {
   "cell_type": "markdown",
   "metadata": {},
   "source": [
    "#### 1e) Describe what properties of this graph may or may not have led to different paths from the algorithms above."
   ]
  },
  {
   "cell_type": "markdown",
   "metadata": {},
   "source": [
    "The main things to consider are the split between DFS/BFS due to the long alternate route through S->A and the failure of the greedy algorithm due to a spider trap/loop that existing between S and G."
   ]
  },
  {
   "cell_type": "markdown",
   "metadata": {},
   "source": [
    "\n",
    "\n",
    "## Problem 2 (30 points)\n",
    "\n",
    "### Escape from Chicago\n",
    "\n",
    "It is the year 2030 and a freak earthquake has caused Chicago to break off from the mainland of Illinois. It has drifted out into Lake Michigan and is now used as a penal colony for the United States' worst criminals.  Snake Plisskin, world-famous tough guy and amateur sea lion enthusiast, must travel from Chicago to New York to find the antidote to the *Plutoxin 7 poison* that he and many other Chicagoans have been infected with.\n",
    "\n",
    "Below are crude graphs, representing the northeastern United States.  The graph on the left, **map_distances**, represents the step costs between two states on the graph (cities) using the distance between the two cities along major highways.  On the right, **map_times** represents the step costs using estimated travel time (at 5 PM on a Friday, east coast time).  These graphs are defined in the helper routines at below.\n",
    "\n",
    "If you take a look at those graphs, you will notice that for brevity's sake, we will use **lowercase** abbreviations for each city, consisting of the **first 3 letters** of the city's name.  So Providence is represented by the state 'pro', for example.\n",
    "\n"
   ]
  },
  {
   "cell_type": "code",
   "execution_count": 1,
   "metadata": {},
   "outputs": [],
   "source": [
    "import numpy as np\n",
    "import matplotlib.pyplot as plt\n",
    "from matplotlib import colors\n",
    "from collections import deque\n",
    "import heapq\n",
    "import unittest\n",
    "from scipy import stats"
   ]
  },
  {
   "cell_type": "markdown",
   "metadata": {},
   "source": [
    "**map_distances**          |  **map_times**\n",
    ":-------------------------:|:-------------------------:\n",
    "<img src=\"http://drive.google.com/uc?export=view&id=1j6Kam3F7ET-aIzT-6KMxaW7D7r8WAOME\" alt=\"Drawing\" style=\"width: 550px;\"/>  | <img src=\"http://drive.google.com/uc?export=view&id=1rI5w8CuWOS9reMIewc2IDBp_Z3pSUu1H\" alt=\"Drawing\" style=\"width: 550px;\"/>"
   ]
  },
  {
   "cell_type": "markdown",
   "metadata": {},
   "source": [
    "### Useful helper routines for searching"
   ]
  },
  {
   "cell_type": "code",
   "execution_count": 2,
   "metadata": {},
   "outputs": [],
   "source": [
    "def path(previous, s): \n",
    "    '''\n",
    "    `previous` is a dictionary chaining together the predecessor state that led to each state\n",
    "    `s` will be None for the initial state\n",
    "    otherwise, start from the last state `s` and recursively trace `previous` back to the initial state,\n",
    "    constructing a list of states visited as we go\n",
    "    '''\n",
    "    if s is None:\n",
    "        return []\n",
    "    else:\n",
    "        return path(previous, previous[s])+[s]\n",
    "\n",
    "def pathcost(path, step_costs):\n",
    "    '''\n",
    "    add up the step costs along a path, which is assumed to be a list output from the `path` function above\n",
    "    '''\n",
    "    cost = 0\n",
    "    for s in range(len(path)-1):\n",
    "        cost += step_costs[path[s]][path[s+1]]\n",
    "    return cost"
   ]
  },
  {
   "cell_type": "code",
   "execution_count": 3,
   "metadata": {},
   "outputs": [],
   "source": [
    "map_distances = dict(\n",
    "    chi=dict(det=283, cle=345, ind=182),\n",
    "    cle=dict(chi=345, det=169, col=144, pit=134, buf=189),\n",
    "    ind=dict(chi=182, col=176),\n",
    "    col=dict(ind=176, cle=144, pit=185),\n",
    "    det=dict(chi=283, cle=169, buf=256),\n",
    "    buf=dict(det=256, cle=189, pit=215, syr=150),\n",
    "    pit=dict(col=185, cle=134, buf=215, phi=305, bal=247),\n",
    "    syr=dict(buf=150, phi=253, new=254, bos=312),\n",
    "    bal=dict(phi=101, pit=247),\n",
    "    phi=dict(pit=305, bal=101, syr=253, new=97),\n",
    "    new=dict(syr=254, phi=97, bos=215, pro=181),\n",
    "    pro=dict(bos=50, new=181),\n",
    "    bos=dict(pro=50, new=215, syr=312, por=107),\n",
    "    por=dict(bos=107))\n",
    "\n",
    "map_times = dict(\n",
    "    chi=dict(det=280, cle=345, ind=200),\n",
    "    cle=dict(chi=345, det=170, col=155, pit=145, buf=185),\n",
    "    ind=dict(chi=200, col=175),\n",
    "    col=dict(ind=175, cle=155, pit=185),\n",
    "    det=dict(chi=280, cle=170, buf=270),\n",
    "    buf=dict(det=270, cle=185, pit=215, syr=145),\n",
    "    pit=dict(col=185, cle=145, buf=215, phi=305, bal=255),\n",
    "    syr=dict(buf=145, phi=245, new=260, bos=290),\n",
    "    bal=dict(phi=145, pit=255),\n",
    "    phi=dict(pit=305, bal=145, syr=245, new=150),\n",
    "    new=dict(syr=260, phi=150, bos=270, pro=260),\n",
    "    pro=dict(bos=90, new=260),\n",
    "    bos=dict(pro=90, new=270, syr=290, por=120),\n",
    "    por=dict(bos=120))\n",
    "\n",
    "sld_providence = dict(\n",
    "    chi=833,\n",
    "    cle=531,\n",
    "    ind=782,\n",
    "    col=618,\n",
    "    det=596,\n",
    "    buf=385,\n",
    "    pit=458,\n",
    "    syr=253,\n",
    "    bal=325,\n",
    "    phi=236,\n",
    "    new=157,\n",
    "    pro=0,\n",
    "    bos=38,\n",
    "    por=136)\n",
    "\n",
    "def check_map(step_costs):\n",
    "    ''' function to check if all the path costs are at least symmetric '''\n",
    "    check_states = []\n",
    "    for state1 in step_costs.keys():\n",
    "        for state2 in step_costs[state1].keys():\n",
    "            uh_oh = step_costs[state2][state1]!=step_costs[state1][state2]\n",
    "            if uh_oh:\n",
    "                print('Check the costs between states {} and {}'.format(state1,state2))\n",
    "                check_states.append([state1,state2])\n",
    "    if len(check_states)==0:\n",
    "        print('all okay! (symmetric at least)')\n",
    "    return check_states"
   ]
  },
  {
   "cell_type": "markdown",
   "metadata": {},
   "source": [
    "<a id='p1a'></a>\n",
    "### (2a)\n",
    "\n",
    "#### Breadth-first search\n",
    "\n",
    "Implement a function **breadth_first(start, goal, state_graph, return_cost)** to search the state space (and step costs) defined by **state_graph** using breadth-first search:\n",
    "* **start**: initial state (e.g., 'ind')\n",
    "* **end**: goal state (e.g., 'bos')\n",
    "* **state_graph**: the dictionary defining the step costs (e.g., `map_distances`)\n",
    "* **return_cost**: logical input representing whether or not to return the solution path cost\n",
    "  * If **True**, then the output should be a tuple where the first value is the list representing the solution path and the second value is the path cost\n",
    "  * If **False**, then the only output is the solution path list object\n",
    "\n",
    "Note that in the helper functions, two useful routines for obtaining your solution path are provided (and can be used for all the search algorithms):\n",
    "  * **path(previous, s)**: returns a list representing a path to state **s**, where **previous** is a dictionary that maps predecessors (values) to successors (keys)\n",
    "  * **pathcost(path, step_costs)**: adds up the step costs defined by the **step_costs** graph (e.g., `map_distances`) along the list of states **path**"
   ]
  },
  {
   "cell_type": "code",
   "execution_count": 4,
   "metadata": {},
   "outputs": [],
   "source": [
    "# Solution:\n",
    "\n",
    "def breadth_first(start, goal, state_graph, return_cost=False):\n",
    "    ''' find a shortest sequence of states from start to the goal '''\n",
    "    frontier = deque([start]) # doubly-ended queue of states\n",
    "    previous = {start: None}  # start has no previous state; other states will\n",
    "    if start == goal:\n",
    "        path_out = [start]\n",
    "        if return_cost: return path_out, pathcost(path_out, state_graph)\n",
    "        return path_out\n",
    "    while frontier:\n",
    "        s = frontier.popleft()\n",
    "        for s2 in state_graph[s]:\n",
    "            if s2 not in previous:\n",
    "                frontier.append(s2)\n",
    "                previous[s2] = s\n",
    "                if s2 == goal:\n",
    "                    path_out = path(previous, s2)\n",
    "                    if return_cost: return path_out, pathcost(path_out, state_graph)\n",
    "                    return path_out\n"
   ]
  },
  {
   "cell_type": "markdown",
   "metadata": {},
   "source": [
    "<a id='p1b'></a>\n",
    "### (2b)\n",
    "\n",
    "#### Depth-first search\n",
    "\n",
    "Implement a function **depth_first(start, goal, state_graph, return_cost)** to search the state space (and step costs) defined by **state_graph** using depth-first search:\n",
    "* **start**: initial state (e.g., 'ind')\n",
    "* **end**: goal state (e.g., 'bos')\n",
    "* **state_graph**: the dictionary defining the step costs (e.g., `map_distances`)\n",
    "* **return_cost**: logical input representing whether or not to return the solution path cost\n",
    "    * If **True**, then the output should be a tuple where the first value is the list representing the solution path and the second value is the path cost\n",
    "    * If **False**, then the only output is the solution path list object"
   ]
  },
  {
   "cell_type": "code",
   "execution_count": 5,
   "metadata": {},
   "outputs": [],
   "source": [
    "# Solution:\n",
    "\n",
    "def depth_first(start, goal, state_graph, return_cost=False):\n",
    "    ''' find a sequence of states from start to the goal '''\n",
    "    frontier = [start] # regular Python list works as LIFO queue\n",
    "    previous = {start: None}  # start has no previous state; other states will\n",
    "    if start == goal:\n",
    "        path_out = [start]\n",
    "        if return_cost: return path_out, pathcost(path_out, state_graph)\n",
    "        return path_out\n",
    "    while frontier:\n",
    "        s = frontier.pop()\n",
    "        for s2 in state_graph[s]:\n",
    "            if s2 not in previous:\n",
    "                frontier.append(s2)\n",
    "                previous[s2] = s\n",
    "                if s2 == goal:\n",
    "                    path_out = path(previous, s2)\n",
    "                    if return_cost: return path_out, pathcost(path_out, state_graph)\n",
    "                    return path_out\n"
   ]
  },
  {
   "cell_type": "markdown",
   "metadata": {},
   "source": [
    "<a id='p1c'></a>\n",
    "### (2c)\n",
    "\n",
    "#### Uniform-cost search\n",
    "\n",
    "First, let's create our own `Frontier_PQ` class to represent the frontier (priority queue) for uniform-cost search.  Note that the `heapq` package is imported in the helpers at the bottom of this notebook; you may find that package useful.  You could also use the `Queue` package.  Your implementation of the uniform-cost search frontier should adhere to these specifications:\n",
    "* Instantiation arguments: \n",
    "  * **Frontier_PQ(start, cost)**\n",
    "  * **start** is the initial state (e.g., **start**='chi')\n",
    "  * **cost** is the initial path cost (what should it be for the initial state?)\n",
    "* Instantiation attributes/methods:\n",
    "  * **states**: maintains a dictionary of states on the frontier, along with the _minimum_ path cost to arrive at them\n",
    "  * **q**: a list of (cost, state) tuples, representing the elements on the frontier; should be treated as a priority queue (in contrast to the **states** dictionary, which is meant to keep track of the lowest-cost to each state)\n",
    "  * appropriately initialize the starting state and cost\n",
    "* Methods to implement:\n",
    "  * **add(state, cost)**: add the (cost, state) tuple to the frontier\n",
    "  * **pop()**: return the lowest-cost (cost, state) tuple, and pop it off the frontier\n",
    "  * **replace(state, cost)**: if you find a lower-cost path to a state that's already on the frontier, it should be replaced using this method.\n",
    "  \n",
    "Note that there is some redundancy between the information stored in **states** and **q**. I only suggest to code it in this way because I think it's the most straightforward way to get something working. You could reduce the storage requirements by eliminating the redundancy, but it increases the time complexity because of the function calls needed to manipulate your priority queue to check for states (since that isn't how the frontier queue is ordered)."
   ]
  },
  {
   "cell_type": "code",
   "execution_count": 6,
   "metadata": {},
   "outputs": [],
   "source": [
    "# Solution:\n",
    "\n",
    "class Frontier_PQ:\n",
    "    ''' frontier class for uniform search, ordered by path cost '''\n",
    "    \n",
    "    def __init__(self, start, cost):\n",
    "        self.states = {}\n",
    "        self.q = []\n",
    "        self.add(start, cost)\n",
    "        \n",
    "    def add(self, state, cost):\n",
    "        ''' push the new state and cost to get there onto the heap'''\n",
    "        heapq.heappush(self.q, (cost, state))\n",
    "        self.states[state] = cost\n",
    "\n",
    "    def pop(self):\n",
    "        (cost, state) = heapq.heappop(self.q)  # get cost of getting to explored state\n",
    "        self.states.pop(state)    # and remove from frontier\n",
    "        return (cost, state)\n",
    "\n",
    "    def replace(self, state, cost):\n",
    "        ''' found a cheaper route to `state`, replacing old cost with new `cost` '''\n",
    "        self.states[state] = cost\n",
    "        for i, (oldcost, oldstate) in enumerate(self.q):\n",
    "            if oldstate==state and oldcost > cost:\n",
    "                self.q[i] = (cost, state)\n",
    "                heapq._siftdown(self.q, 0, i) # now i is posisbly out of order; restore\n",
    "        return\n",
    "    "
   ]
  },
  {
   "cell_type": "markdown",
   "metadata": {},
   "source": [
    "Now, actually implement a function to search using `uniform_cost` search, called as **uniform_cost(start, goal, state_graph, return_cost)**:\n",
    "* **start**: initial state\n",
    "* **goal**: goal state\n",
    "* **state_graph**: graph representing the connectivity and step costs of the state space (e.g., **map_distances** or **map_times** below)\n",
    "* **return_cost**: logical input representing whether or not to return the solution path cost\n",
    "  * If **True**, then the output should be a tuple where the first value is the list representing the solution path and the second value is the path cost\n",
    "  * If **False**, then the only output is the solution path list object"
   ]
  },
  {
   "cell_type": "code",
   "execution_count": 7,
   "metadata": {},
   "outputs": [],
   "source": [
    "# Solution:\n",
    "\n",
    "def uniform_cost(start, goal, state_graph, return_cost=False):\n",
    "    frontier = Frontier_PQ(start, 0)\n",
    "    previous = {start : None}\n",
    "    explored = {}\n",
    "    while frontier:\n",
    "        s= frontier.pop()\n",
    "        if s[1] == goal:\n",
    "            if return_cost: return path(previous, s[1]), s[0]\n",
    "            return path(previous, s[1])\n",
    "        explored[s[1]] = s[0]\n",
    "        for s2 in state_graph[s[1]]:\n",
    "            newcost = explored[s[1]]+state_graph[s[1]][s2]\n",
    "            if (s2 not in explored) and (s2 not in frontier.states):\n",
    "                frontier.add(s2, newcost)\n",
    "                previous[s2] = s[1]\n",
    "            elif (s2 in frontier.states) and (frontier.states[s2] > newcost):\n",
    "                frontier.replace(s2, newcost)\n",
    "                previous[s2] = s[1]"
   ]
  },
  {
   "cell_type": "markdown",
   "metadata": {},
   "source": [
    "<a id='p1d'></a>\n",
    "### (2d)\n",
    "\n",
    "In the code cell below, use a few **print** statements to showcase the output of each of your three search algorithms defined above (in **1a**, **1b** and **1c**) to find routes for Snake to travel from Chicago to New York, with path costs defined by the distance between cities.\n",
    "\n",
    "Then, in the markdown cell below your code cell, write a few sentences:\n",
    "* Which algorithm yields the shortest path?\n",
    "* Why does this not surprise you?"
   ]
  },
  {
   "cell_type": "code",
   "execution_count": 8,
   "metadata": {},
   "outputs": [
    {
     "name": "stdout",
     "output_type": "stream",
     "text": [
      "(['chi', 'cle', 'pit', 'phi', 'new'], 881)\n",
      "(['chi', 'ind', 'col', 'pit', 'phi', 'new'], 945)\n",
      "(['chi', 'det', 'buf', 'syr', 'new'], 943)\n"
     ]
    }
   ],
   "source": [
    "# Solution:\n",
    "\n",
    "start = 'chi'\n",
    "goal = 'new'\n",
    "graph = map_distances\n",
    "print(uniform_cost(start, goal, graph, True))\n",
    "print(depth_first(start, goal, graph, True))\n",
    "print(breadth_first(start, goal, graph, True))"
   ]
  },
  {
   "cell_type": "markdown",
   "metadata": {},
   "source": [
    "**Solution:**\n",
    "* Uniform-cost search yields the shortest path.\n",
    "* This does not surprise me because we know it is optimal, whereas depth-first and breadth-first search are not."
   ]
  },
  {
   "cell_type": "markdown",
   "metadata": {},
   "source": [
    "<a id='p1e'></a>\n",
    "### (2e)\n",
    "\n",
    "The Plutoxin 7 poison (which Snake has been infected with) will cause Snake's central nervous system to implode after exactly 1000 minutes.\n",
    "\n",
    "Will any of the paths found in **(1d)** get Snake to New York alive?  Show your work! Snake's life hangs in the balance."
   ]
  },
  {
   "cell_type": "code",
   "execution_count": 9,
   "metadata": {},
   "outputs": [
    {
     "name": "stdout",
     "output_type": "stream",
     "text": [
      "Estimated time for uniform-cost search path: 945 minutes\n",
      "Estimated time for depth-first search path: 1015 minutes\n",
      "Estimated time for breadth-first search path: 955 minutes\n",
      "---------------------------------------------------------\n",
      "--> There is hope!\n"
     ]
    }
   ],
   "source": [
    "# Solution:\n",
    "\n",
    "start = 'chi'\n",
    "goal = 'new'\n",
    "graph = map_distances\n",
    "time_uniform = pathcost(uniform_cost(start, goal, graph), map_times)\n",
    "time_depth = pathcost(depth_first(start, goal, graph), map_times)\n",
    "time_breadth = pathcost(breadth_first(start, goal, graph), map_times)\n",
    "print('Estimated time for uniform-cost search path: {} minutes'.format(time_uniform))\n",
    "print('Estimated time for depth-first search path: {} minutes'.format(time_depth))\n",
    "print('Estimated time for breadth-first search path: {} minutes'.format(time_breadth))\n",
    "print('---------------------------------------------------------')\n",
    "if time_uniform >= 1000 and time_depth >= 1000 and time_breadth >= 1000:\n",
    "    print('--> Nope, Snake is a goner')\n",
    "else:\n",
    "    print('--> There is hope!')"
   ]
  },
  {
   "cell_type": "markdown",
   "metadata": {},
   "source": [
    "<a id='p1f'></a>\n",
    "### (2f)\n",
    "\n",
    "Since time is a factor, Snake ought to optimize his route from Chicago to New York to minimize the total time required. Because Snake is a renaissance man, he knows some pretty slick search algorithms.  But because he's infected with deadly poison, Snake just isn't up to the task of implementing them - his code is full of bugs and he keeps sneezing all over his monitor!  Let's help him out, shall we?\n",
    "\n",
    "In the code cell below, find the shortest path from Chicago to New York as measured by total time taken, and display the result using a **print** statement\n",
    "\n",
    "In the markdown cell below the code cell, write a couple of sentences:\n",
    "* Why did you choose the search algorithm and state space graph that you chose?\n",
    "* Would the solution path found by the other algorithms (the ones you didn't use in your function call) change if you tried to optimize based on time as opposed to distance (i.e., used **map_times** as opposed to **map_distances**)? Why or why not?\n",
    "* **Most importantly:**  will Snake get to New York in time to receive the Plutoxin 7 antidote? This answer should be justified by your code output."
   ]
  },
  {
   "cell_type": "code",
   "execution_count": 10,
   "metadata": {},
   "outputs": [
    {
     "name": "stdout",
     "output_type": "stream",
     "text": [
      "(['chi', 'cle', 'buf', 'syr', 'new'], 935)\n"
     ]
    }
   ],
   "source": [
    "# Solution:\n",
    "\n",
    "start = 'chi'\n",
    "goal = 'new'\n",
    "graph = map_times\n",
    "print(uniform_cost(start, goal, graph, True))"
   ]
  },
  {
   "cell_type": "markdown",
   "metadata": {},
   "source": [
    "** Solution:**\n",
    "* I used uniform-cost search because it is optimal, and **map_times** so the search will find the optimal path based on minimizing total time taken.\n",
    "* Depth-first and breadth-first searches would **not** yield different results because they do not consider step costs at all in the decision-making process.  So only the order in which states are placed on the frontier.\n",
    "* Snake will arrive in New York with an hour and five minutes left to receive the antidote. Phew!"
   ]
  },
  {
   "cell_type": "markdown",
   "metadata": {},
   "source": [
    "## Problem 3 (25 points)\n",
    "\n",
    "Well, it turns out Snake used the right algorithms and lived through his perilous trip to New York City.  He returned to Chicago, where he is living happily among the criminals, sea lions and criminal sea lions  But we want a sequel!\n",
    "\n",
    "During Snake's time on the east coast, he came to realize that the soothing Atlantic Ocean air does wonders for his nerves. Living in the penal colony of Chicago is just so stressful! So he has decided to pack up and move to Providence, Rhode Island.\n",
    "\n",
    "Because Snake has traveled across the country already, he has some prior knowledge regarding how far various cities along the way are from his final destination of Providence.  In particular, Snake maps out the **straight-line distance** from major cities to Providence. This information is displayed graphically below, on a tattoo on Kurt Russell's forearm (you can't prove that isn't true), and in the `sld_providence` dictionary in the [helper functions] at the top of this notebook.\n",
    "\n",
    "Also note that because it doesn't make much sense to add estimated travel times and the straight-line distance, we will only be using the `map_distances` state space graph for this problem.\n",
    "\n",
    "**map_distances**          |  **sld_providence**\n",
    ":-------------------------:|:-------------------------:\n",
    "<img src=\"http://drive.google.com/uc?export=view&id=1j6Kam3F7ET-aIzT-6KMxaW7D7r8WAOME\" alt=\"Drawing\" style=\"width: 500px;\"/>  | <img src=\"http://drive.google.com/uc?export=view&id=1a8FNEG7apKkRX7VvpdMgmeYbqeNuOdwz\" alt=\"Drawing\" style=\"width: 500px;\"/>\n",
    "\n",
    "\n",
    "<a id='p1a'></a>\n",
    "### (3a)\n",
    "\n",
    "Modify your code for uniform-cost search from Problem 1 so that it provides optionally as output the number of nodes **expanded** in completing the search. \n",
    "\n",
    "Include a new optional logical (True/False) argument **return_nexp**, so your function calls to the new uniform cost search will look like: `uniform_cost(start, goal, state_graph, return_cost, return_nexp)`.\n",
    "* If `return_nexp` is True, then the last output in the output tuple should be the number of nodes expanded.\n",
    "* If `return_nexp` is False, then the code should behave exactly as it does in problem 2.\n",
    "\n",
    "Then, verify that your revised codes are working by checking Snake's optimal route from Chicago to New York. Include the number of nodes expanded and the path cost (using `map_distances`)."
   ]
  },
  {
   "cell_type": "code",
   "execution_count": 11,
   "metadata": {},
   "outputs": [
    {
     "name": "stdout",
     "output_type": "stream",
     "text": [
      "(['chi', 'cle', 'pit', 'phi', 'new'], 881, 11)\n"
     ]
    }
   ],
   "source": [
    "# Solution:\n",
    "\n",
    "class Frontier_PQ:\n",
    "    ''' frontier class for uniform search, ordered by path cost '''\n",
    "    \n",
    "    def __init__(self, start, cost):\n",
    "        self.states = {}\n",
    "        self.q = []\n",
    "        self.add(start, cost)\n",
    "        \n",
    "    def add(self, state, cost):\n",
    "        ''' push the new state and cost to get there onto the heap'''\n",
    "        heapq.heappush(self.q, (cost, state))\n",
    "        self.states[state] = cost\n",
    "\n",
    "    def pop(self):\n",
    "        (cost, state) = heapq.heappop(self.q)  # get cost of getting to explored state\n",
    "        self.states.pop(state)    # and remove from frontier\n",
    "        return (cost, state)\n",
    "\n",
    "    def replace(self, state, cost):\n",
    "        ''' found a cheaper route to `state`, replacing old cost with new `cost` '''\n",
    "        self.states[state] = cost\n",
    "        for i, (oldcost, oldstate) in enumerate(self.q):\n",
    "            if oldstate==state and oldcost > cost:\n",
    "                self.q[i] = (cost, state)\n",
    "                heapq._siftdown(self.q, 0, i) # now i is posisbly out of order; restore\n",
    "        return\n",
    "\n",
    "def uniform_cost(start, goal, state_graph, return_cost=False, return_nexp=True):\n",
    "    frontier = Frontier_PQ(start, 0)\n",
    "    previous = {start : None}\n",
    "    explored = {}\n",
    "    n_exp = 0\n",
    "    while frontier:\n",
    "        s = frontier.pop()\n",
    "        n_exp += 1\n",
    "        #print('exploring {}'.format(s[1]))\n",
    "        if s[1] == goal:\n",
    "            if return_cost: return (path(previous, s[1]), s[0], n_exp) if return_nexp else (path(previous, s[1]), s[0])\n",
    "            return path(previous, s[1])\n",
    "        explored[s[1]] = s[0]\n",
    "        for s2 in state_graph[s[1]]:\n",
    "            newcost = explored[s[1]] + state_graph[s[1]][s2]\n",
    "            if (s2 not in explored) and (s2 not in frontier.states):\n",
    "                frontier.add(s2, newcost)\n",
    "                previous[s2] = s[1]\n",
    "            elif (s2 in frontier.states) and (frontier.states[s2] > newcost):\n",
    "                frontier.replace(s2, newcost)\n",
    "                previous[s2] = s[1]\n",
    "                \n",
    "print(uniform_cost('chi','new', map_distances, True, True))"
   ]
  },
  {
   "cell_type": "markdown",
   "metadata": {},
   "source": [
    "### (3b)\n",
    "\n",
    "#### Heuristic function\n",
    "\n",
    "Define a function to take as an argument the `state` that Snake is in (city on our graphs), and return as output the value of the straight-line distance heuristic, between Snake's `state` and Providence.  Note that your function should be quite short, and amounts to looking up the proper value from the `sld_providence` dictionary defined in the [helper functions](#helper).  Call this function `heuristic_sld_providence`.\n"
   ]
  },
  {
   "cell_type": "code",
   "execution_count": 12,
   "metadata": {},
   "outputs": [],
   "source": [
    "# Solution:\n",
    "\n",
    "def heuristic_sld_providence(state):\n",
    "    return sld_providence[state]"
   ]
  },
  {
   "cell_type": "markdown",
   "metadata": {},
   "source": [
    "### (3c)\n",
    "\n",
    "#### Full-blown A\\* search\n",
    "\n",
    "We are finally ready to help Snake use his knowledge of straight-line distances from various cities to Providence to inform his path-finding from Chicago to Providence!\n",
    "\n",
    "Modify your uniform-cost search codes from **(2a)** even further so that they now perform **A\\* search**, using as the heuristic function the straight-line distance to Providence.\n",
    "\n",
    "Provide `heuristic` as an additional argument, which should just be the function name to call within the A\\* code. So your call to the A\\* routine should look like:  `astar_search(start, goal, state_graph, heuristic, return_cost, return_nexp)`.  (This kind of modular programming will make it much easier to swap in alternative heuristic functions later, and also helps to facilitate debugging if something goes wrong.)"
   ]
  },
  {
   "cell_type": "code",
   "execution_count": 13,
   "metadata": {},
   "outputs": [],
   "source": [
    "# Solution:\n",
    "\n",
    "def astar_search(start, goal, state_graph, heuristic, return_cost=False, return_nexp=False):\n",
    "    '''A* search from `start` to `goal`\n",
    "    start = initial state\n",
    "    goal = goal state\n",
    "    heuristic = function for estimated cost to goal (function name)\n",
    "    return_cost = logical (True/False) for whether or not to return the total path cost\n",
    "    return_nexp = logical (True/False) for whether or not to return the number of nodes expanded\n",
    "    '''         \n",
    "    frontier = Frontier_PQ(start, 0)\n",
    "    previous = {start : None}\n",
    "    explored = {}\n",
    "    n_exp = 0\n",
    "    while frontier:\n",
    "        s = frontier.pop()\n",
    "        n_exp += 1\n",
    "        #print('exploring {}'.format(s[1]))\n",
    "        if s[1] == goal:\n",
    "            if return_cost:\n",
    "                if return_nexp:\n",
    "                    return (path(previous, s[1]), pathcost(path(previous, s[1]), state_graph), n_exp)\n",
    "                    #return (path(previous, s[1]), pathcost(path(previous, s[1]), state_graph), len(explored))\n",
    "                else:\n",
    "                    return (path(previous, s[1]), pathcost(path(previous, s[1]), state_graph))\n",
    "            else:\n",
    "                if return_nexp:\n",
    "                    return (path(previous, s[1]), n_exp)\n",
    "                else:\n",
    "                    return path(previous, s[1])\n",
    "        explored[s[1]] = pathcost(path(previous, s[1]), state_graph)\n",
    "        for s2 in state_graph[s[1]]:\n",
    "            newcost = explored[s[1]] + state_graph[s[1]][s2] + heuristic(s2)\n",
    "            if (s2 not in explored) and (s2 not in frontier.states):\n",
    "                frontier.add(s2, newcost)\n",
    "                previous[s2] = s[1]\n",
    "            elif (s2 in frontier.states) and (frontier.states[s2] > newcost):\n",
    "                frontier.replace(s2, newcost)\n",
    "                previous[s2] = s[1]\n",
    "  "
   ]
  },
  {
   "cell_type": "markdown",
   "metadata": {},
   "source": [
    "### (3d)\n",
    "\n",
    "Snake has already made it to Buffalo on his own, but he is growing weary.  There were ***so*** many sea lions along the way, and he had to stop and admire their grace and beauty.  Use your A\\* search code from **(3c)** to help Snake find the optimal path **by distance traveled** the rest of the way to Providence.  Print to the screen the following:\n",
    "1. the optimal path\n",
    "2. the optimal path cost (miles traveled)\n",
    "3. the number of states expanded during the A\\* search\n",
    "\n",
    "Additionally, show below how many states must be expanded to find the optimal path from Buffalo to Providence using the regular old uniform-cost search algorithm from **(3a)**.  Comment on the difference in states that must be explored by each algorithm.\n",
    "\n",
    "**Sanity check:** No matter what your `start` and `goal` states are, how should the output from `astar_search` and `uniform_cost` search compare?"
   ]
  },
  {
   "cell_type": "code",
   "execution_count": 14,
   "metadata": {},
   "outputs": [
    {
     "name": "stdout",
     "output_type": "stream",
     "text": [
      "(['buf', 'syr', 'bos', 'pro'], 512, 4)\n",
      "(['buf', 'syr', 'bos', 'pro'], 512, 12)\n"
     ]
    }
   ],
   "source": [
    "# Solution:\n",
    "\n",
    "start = 'buf'\n",
    "goal = 'pro'\n",
    "print(astar_search(start, goal, map_distances, heuristic_sld_providence, return_cost=True, return_nexp=True))\n",
    "print(uniform_cost(start, goal, map_distances, return_cost=True, return_nexp=True))"
   ]
  },
  {
   "cell_type": "markdown",
   "metadata": {},
   "source": [
    "**Solution:**\n",
    "\n",
    "Uniform-cost search explored more states, which makes sense, because it is uninformed and searching in all directions only based on how far those states are from the initial state."
   ]
  },
  {
   "attachments": {
    "image.png": {
     "image/png": "[encoded data removed]"
    }
   },
   "cell_type": "markdown",
   "metadata": {},
   "source": [
    "\n",
    "## Problem 4 (30 points)\n",
    "\n",
    "Consider this maze, where gray tiles represent walls and orange tiles represent open space where you can walk.\n",
    "\n",
    "![image.png](attachment:image.png)\n",
    "\n",
    "We can represent this maze using a binary `numpy` array as follows, where 1s represent walls and 0s represent open space:"
   ]
  },
  {
   "cell_type": "code",
   "execution_count": 15,
   "metadata": {},
   "outputs": [],
   "source": [
    "maze = np.array([[1, 1, 1, 1, 1, 1, 1, 1, 1, 1, 1, 1],\n",
    "                 [1, 0, 0, 0, 0, 0, 0, 0, 0, 0, 0, 1],\n",
    "                 [1, 0, 1, 1, 1, 1, 1, 1, 0, 1, 0, 1],\n",
    "                 [1, 0, 1, 0, 0, 0, 0, 0, 0, 0, 0, 1],\n",
    "                 [1, 0, 1, 0, 1, 1, 1, 0, 1, 1, 1, 1],\n",
    "                 [1, 0, 1, 0, 0, 0, 0, 0, 0, 0, 0, 1],\n",
    "                 [1, 0, 0, 0, 1, 1, 0, 1, 1, 1, 0, 1],\n",
    "                 [1, 0, 1, 0, 0, 1, 1, 1, 0, 1, 0, 1],\n",
    "                 [1, 1, 1, 1, 0, 1, 0, 0, 0, 0, 0, 1],\n",
    "                 [1, 0, 1, 0, 0, 1, 0, 1, 1, 1, 1, 1],\n",
    "                 [1, 0, 0, 0, 1, 1, 0, 0, 0, 0, 0, 1],\n",
    "                 [1, 1, 1, 1, 1, 1, 1, 1, 1, 1, 1, 1]])"
   ]
  },
  {
   "cell_type": "markdown",
   "metadata": {},
   "source": [
    "**Very importantly**, note that the *first* row of the **maze** array corresponds to the *bottom* row of tiles in the figure.  This is a choice made carefully to reflect the fact that we are going to search for a solution path through this maze in *physical* space, so it is useful for our coordinate system to match Cartesian coordinates. This is in contrast to using the first row of the **maze** array to represent the top of the maze, which looks intuitive."
   ]
  },
  {
   "cell_type": "markdown",
   "metadata": {},
   "source": [
    "<a id='p3a'></a>\n",
    "### (4a)\n",
    "\n",
    "Write a function **maze_to_graph(maze)** that:\n",
    "* takes as input a binary maze **maze**, stored as a `numpy` array, where 0 represents an open path and 1 represents a wall\n",
    "* returns a graph dictionary in a similar style to **map_distances** and **map_times** (from Problem 1)\n",
    "  * the keys are tuples giving the states (coordinate pairs) within the maze (e.g., (1,1) represents the lower-left open space, (2,1) represents the space **to the right** of (1,1), and (0,0) represents the lower-left corner, a wall location); thus, the coordinates within the maze are like Cartesian coordinates, and the x- and y-axes are the bottom and left walls of the maze, respectively\n",
    "  * the values are themselves dictionaries, where the keys are other states within the maze and the values are the actions taken to move to that state\n",
    "  * the actions are moves from the list ['N','S','E','W']"
   ]
  },
  {
   "cell_type": "code",
   "execution_count": 16,
   "metadata": {},
   "outputs": [],
   "source": [
    "# Solution:\n",
    "\n",
    "def maze_to_graph(maze):\n",
    "    ''' takes in a maze as a numpy array, converts to a graph '''\n",
    "    nrow = maze.shape[0]\n",
    "    ncol = maze.shape[1]\n",
    "    graph = {(i, j): {} for i in range(ncol) for j in range(nrow) if not maze[j,i]}\n",
    "    for col, row in graph.keys():\n",
    "        if row < nrow - 1 and not maze[row + 1, col]:\n",
    "            graph[(col, row)][(col, row + 1)] = \"N\"\n",
    "            graph[(col, row + 1)][(col, row)] = \"S\"\n",
    "        if col < ncol - 1 and not maze[row, col + 1]:\n",
    "            graph[(col, row)][(col + 1, row)] = \"E\"\n",
    "            graph[(col + 1, row)][(col, row)] = \"W\"\n",
    "    return graph"
   ]
  },
  {
   "cell_type": "markdown",
   "metadata": {},
   "source": [
    "<a id='p3b'></a>\n",
    "### (4b)\n",
    "\n",
    "Use your **maze_to_graph** function and **depth-first search** to solve the maze defined above.  A simple 'print' statement of the path your codes find and its length suffices.\n",
    "* The initial state is (1,1)\n",
    "* The goal state is (10,10)\n",
    "\n",
    "Then, use your **breadth-first search** function to solve the maze; provide the solution path and its length.\n",
    "\n",
    "If your codes are sufficiently general, the output from **maze_to_graph** should be suitable to be fed straight into your search routines."
   ]
  },
  {
   "cell_type": "code",
   "execution_count": 17,
   "metadata": {},
   "outputs": [
    {
     "name": "stdout",
     "output_type": "stream",
     "text": [
      "Depth-first search yields: [(1, 1), (2, 1), (3, 1), (4, 1), (5, 1), (6, 1), (7, 1), (8, 1), (9, 1), (10, 1), (10, 2), (10, 3), (9, 3), (8, 3), (7, 3), (7, 4), (7, 5), (8, 5), (9, 5), (10, 5), (10, 6), (10, 7), (10, 8), (9, 8), (8, 8), (7, 8), (6, 8), (6, 9), (6, 10), (7, 10), (8, 10), (9, 10), (10, 10)], (33 steps)\n",
      "Breadth-first search yields: [(1, 1), (1, 2), (1, 3), (1, 4), (1, 5), (1, 6), (2, 6), (3, 6), (3, 5), (4, 5), (5, 5), (6, 5), (7, 5), (8, 5), (9, 5), (10, 5), (10, 6), (10, 7), (10, 8), (9, 8), (8, 8), (7, 8), (6, 8), (6, 9), (6, 10), (7, 10), (8, 10), (9, 10), (10, 10)] (29 steps)\n"
     ]
    }
   ],
   "source": [
    "# Solution:\n",
    "\n",
    "g_maze = maze_to_graph(maze)\n",
    "\n",
    "maze_sol_dfs = depth_first((1,1), (10,10), g_maze)\n",
    "print('Depth-first search yields: {}, ({} steps)'.format(maze_sol_dfs, len(maze_sol_dfs)))\n",
    "\n",
    "maze_sol_bfs = breadth_first((1,1), (10,10), g_maze)\n",
    "print('Breadth-first search yields: {} ({} steps)'.format(maze_sol_bfs, len(maze_sol_bfs)))"
   ]
  },
  {
   "cell_type": "markdown",
   "metadata": {},
   "source": [
    "<a id='p3c'></a>\n",
    "### (4c)\n",
    "\n",
    "Write a function **plot_maze(maze, path)** that takes as input a binary `numpy` array **maze** (1s represent walls, 0s represent open space) and a solution **path**, and plots the two together.\n",
    "* **maze**: a maze represented as a binary `numpy` array, as above\n",
    "* **path**: a solution path found using your search algorithms above. **path** should be consistent with the output from the **path** function below in the helpers (a list of states).  You may find it useful to provide a default of `None` for **path**, so that you can use your function to just plot a maze that you haven't solved yet.\n",
    "\n",
    "Then, use your **plot_maze** function to plot the maze defined above, along with the solution path found by **depth-first search**.  You may optionally include the breatdh-first solution as well, but make sure it's clear which path was the depth-first path.\n",
    "\n",
    "\n",
    "<br>\n",
    "\n",
    "**Potentially useful:** \n",
    "\n",
    "[1] In the helpers, you will notice that there are two packages imported:\n",
    "  * `import matplotlib.pyplot as plt`\n",
    "  * `from matplotlib import colors`\n",
    "\n",
    "`pyplot` and `colors` may be potentially useful to you for generating a pretty plot and generating a colormap for your walls/open spaces in the maze, respectively.  You do not need to use them, but I wanted to provide this nudge for folks who maybe have not done much/any plotting in Python before.\n",
    "\n",
    "[2] Also, [Color Oracle](http://colororacle.org/) is a useful utility for making colorblind-friendly plots. If you ever plan to show another human being a figure that you have generated, this is nice practice. Check it out!"
   ]
  },
  {
   "cell_type": "code",
   "execution_count": 18,
   "metadata": {},
   "outputs": [
    {
     "data": {
      "image/png": "[encoded data removed]",
      "text/plain": [
       "<matplotlib.figure.Figure at 0x154fa3826d8>"
      ]
     },
     "metadata": {},
     "output_type": "display_data"
    }
   ],
   "source": [
    "# Solution:\n",
    "\n",
    "def plot_maze(maze, path=None):\n",
    "    ''' visualize the binary `maze` (assumed numpy array) and solution `path` (if provided)'''\n",
    "\n",
    "    nrow, ncol = maze.shape\n",
    "    \n",
    "    # create colormap\n",
    "    cmap = colors.ListedColormap(['coral', 'slategray'])\n",
    "\n",
    "    fig, ax = plt.subplots()\n",
    "    ax.imshow(maze, cmap=cmap, origin='lower')\n",
    "    \n",
    "    # draw gridlines\n",
    "    ax.grid(which='major', axis='both', linestyle='-', color='k')\n",
    "    ax.set_xticks(np.arange(-.5, ncol, 1))\n",
    "    ax.set_yticks(np.arange(-.5, nrow, 1))\n",
    "    ax.xaxis.set_ticklabels([])\n",
    "    ax.yaxis.set_ticklabels([])\n",
    "    \n",
    "    # now draw the solution path, if one is provided\n",
    "    if path:\n",
    "        for p in range(len(path)-1):\n",
    "            point = path[p]\n",
    "            nextpoint = path[p+1]\n",
    "            plt.plot([point[0],nextpoint[0]], [point[1],nextpoint[1]], c='black')\n",
    "        \n",
    "    plt.show()\n",
    "    \n",
    "plot_maze(maze, path=maze_sol_dfs)"
   ]
  },
  {
   "cell_type": "markdown",
   "metadata": {},
   "source": [
    "Your maze may differ depending on the order of your up-down-left-right priorty for appending new states to the frontier!"
   ]
  },
  {
   "cell_type": "markdown",
   "metadata": {},
   "source": []
  }
 ],
 "metadata": {
  "kernelspec": {
   "display_name": "Python 3",
   "language": "python",
   "name": "python3"
  },
  "language_info": {
   "codemirror_mode": {
    "name": "ipython",
    "version": 3
   },
   "file_extension": ".py",
   "mimetype": "text/x-python",
   "name": "python",
   "nbconvert_exporter": "python",
   "pygments_lexer": "ipython3",
   "version": "3.6.4"
  }
 },
 "nbformat": 4,
 "nbformat_minor": 2
}
