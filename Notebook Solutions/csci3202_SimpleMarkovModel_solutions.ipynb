{
 "cells": [
  {
   "cell_type": "markdown",
   "metadata": {},
   "source": [
    "<a id='top'></a>\n",
    "\n",
    "# CSCI 3202, Fall 2020\n",
    "\n",
    "# Friday Oct 30, 2020 \n",
    "\n",
    "<br>\n"
   ]
  },
  {
   "cell_type": "code",
   "execution_count": 1,
   "metadata": {},
   "outputs": [],
   "source": [
    "from scipy import stats\n",
    "import unittest\n",
    "import numpy as np\n",
    "import pandas as pd\n",
    "import matplotlib.pyplot as plt"
   ]
  },
  {
   "cell_type": "markdown",
   "metadata": {},
   "source": [
    "---\n",
    "\n",
    "\n",
    "## Markov models - random walk to Taco Bell\n",
    "\n",
    "Your friend Chris went to a party last night and left feeling a bit hungry.  He decides to head for Taco Bell. The party, is at the corner of 6th Street East and 3rd Street North, and Taco Bell, is located at the corner of 2nd Street East and 1st Street North.  A figure depicting this neighborhood is given below.\n",
    "\n",
    "<img src=\"http://www.cs.colorado.edu/~tonyewong/home/resources/random_walk_to_taco_bell.png\" style=\"width: 650px;\"/>\n",
    "\n",
    "Chris' sense of direction quite poor, so at each intersection along his way, he picks any one of the available directions with equal probability.  Chris at least knows not to go north of 4th Street North, south of 0th Street North, east of 7th Street East, or west of 0th Street East, and has the common decency not to cut through anyone's yard (i.e., he only walks along streets).\n",
    "\n",
    "Suppose Chris only cares about traveling between from one intersection to another, and considers one *move* to be walking one block, from one intersection to an adjacent intersection.\n",
    "\n",
    "Since this grid is precisely a Cartesian coordinate grid, let the bottom-left corner of the neighborhood be represented by $(0,0)$.  Then the available moves from that location are to walk East (right, in the $+x$ direction) to $(1,0)$ or North to $(0,1)$.\n",
    "\n",
    "\n",
    "\n",
    "### (a)\n",
    "\n",
    "Create a class for `Neighborhood` and for `Agent`, to represent the neighborhood and the agent trying to get to Taco Bell:\n",
    "\n",
    "`Neighborhood(n_northsouth, n_eastwest, taco_bell)`:\n",
    "* `n_northsouth` and `n_eastwest` provide the number of streets running north-south and the number of streets running east-west, respectively.  In the given figure, there are 5 streets running east-west, for example.\n",
    "* `taco_bell` is a tuple providing the coordinates of Taco Bell in this neighborhood.\n",
    "* has attributes for:\n",
    "  * number of streets running north-south\n",
    "  * number of streets running east-west\n",
    "  * all of the intersections in the neighborhood\n",
    "  * the location of the Taco Bell in the neighborhood\n",
    "* Implement in your code a check to make sure the location of the Taco Bell is within the neighborhood's coordinates.  Assume that the south-west corner of the neighborhood is always $(0,0)$.\n",
    "\n",
    "`Agent(name, loc, neighborhood)`:\n",
    "* In the constructor, provide the agent with a `name` (string), initial location as a tuple (`loc`), and a `Neighborhood` to live in. Store these as attributes.\n",
    "* Fill in the rest of the needed methods for the agent:\n",
    "  * `available_moves()` returns a list of tuples, representing the locations the agent can walk to from its current location\n",
    "  * `random_move()` returns one of the possible moves\n",
    "  * `walk(move)` updates the agent's location, if they make the given argument `move`\n",
    "  * `at_taco_bell()` returns True if the agent is at the same intersection as the neighborhood Taco Bell, and False otherwise"
   ]
  },
  {
   "cell_type": "code",
   "execution_count": 425,
   "metadata": {
    "collapsed": true
   },
   "outputs": [],
   "source": [
    "class Neighborhood:\n",
    "    def __init__(self, n_northsouth, n_eastwest, taco_bell):\n",
    "        '''Set up the layout of the neighborhood by giving the # streets\n",
    "        running North/South (n_northsouth) and the # streets running \n",
    "        East/West). Based on these, store all the available locations \n",
    "        (intersections) in the neighborhood, and make sure the given\n",
    "        coordinates for Taco Bell are valid'''\n",
    "        \n",
    "        # your code goes here...\n",
    "        \n",
    "        # Solution:\n",
    "        self.n_ns = n_northsouth\n",
    "        self.n_ew = n_eastwest\n",
    "        self.locations = [(col, row) for col in range(n_northsouth) for row in range(n_eastwest)]\n",
    "        self.tb = taco_bell\n",
    "        assert taco_bell in self.locations, 'Taco Bell must be within the neighborhood domain'\n",
    "        \n",
    "class Agent:\n",
    "    def __init__(self, name, loc, neighborhood):\n",
    "        \n",
    "        # your code goes here...\n",
    "        \n",
    "        # Solution:\n",
    "        self.name = name\n",
    "        self.loc = loc\n",
    "        self.nh = neighborhood\n",
    "        \n",
    "    def available_moves(self):\n",
    "        '''Return a list of available intersections the agent can move to,\n",
    "        based on the layout of the agent's neighborhood'''\n",
    "        \n",
    "        # your code goes here...\n",
    "        \n",
    "        # Solution:\n",
    "        moves = []\n",
    "        if self.loc[0] > 0:\n",
    "            # can move West\n",
    "            moves.append((self.loc[0]-1, self.loc[1]))\n",
    "        if self.loc[0] < self.nh.n_ns-1:\n",
    "            # can move East\n",
    "            moves.append((self.loc[0]+1, self.loc[1]))\n",
    "        if self.loc[1] > 0:\n",
    "            # can move South\n",
    "            moves.append((self.loc[0], self.loc[1]-1))\n",
    "        if self.loc[1] < self.nh.n_ew-1:\n",
    "            # can move North\n",
    "            moves.append((self.loc[0], self.loc[1]+1))\n",
    "        return moves\n",
    "\n",
    "    def random_move(self):\n",
    "        '''Return a random move out of the available moves\n",
    "        from the agent`s current location'''\n",
    "        \n",
    "        # your code goes here...\n",
    "        \n",
    "        # Solution:\n",
    "        moves = self.available_moves()\n",
    "        n_moves = len(self.available_moves())\n",
    "        return moves[np.random.randint(n_moves)]\n",
    "    \n",
    "    def walk(self, move):\n",
    "        '''Update the agent to a new location'''\n",
    "        \n",
    "        # your code goes here...\n",
    "        \n",
    "        # Solution:\n",
    "        self.loc = move\n",
    "        \n",
    "    def at_taco_bell(self):\n",
    "        '''Return True if the agent is at Taco Bell, and False otherwise'''\n",
    "        \n",
    "        # your code goes here...\n",
    "        \n",
    "        # Solution:\n",
    "        return self.loc==self.nh.tb\n",
    "    \n",
    "    def __repr__(self):\n",
    "        return '{} at {}'.format(self.name, self.loc)"
   ]
  },
  {
   "cell_type": "markdown",
   "metadata": {},
   "source": [
    "\n",
    "### (b)\n",
    "\n",
    "Create a neighborhood and Chris agent to represent the situation above.\n",
    "\n",
    "Then, run an ensemble of 1,000 simulations to obtain a sample for the number of blocks Chris must travel in order to arrive at Taco Bell at (2,1), starting from the party at (6,3).  Report the expected number of blocks traveled."
   ]
  },
  {
   "cell_type": "code",
   "execution_count": 427,
   "metadata": {},
   "outputs": [
    {
     "name": "stdout",
     "output_type": "stream",
     "text": [
      "81.622\n"
     ]
    }
   ],
   "source": [
    "# Solution:\n",
    "\n",
    "taco_bell = (2,1)\n",
    "nh = Neighborhood(n_eastwest=5, n_northsouth=8, taco_bell=taco_bell)\n",
    "n_sample = 1000\n",
    "sample_blocks = []\n",
    "for n in range(n_sample):\n",
    "    chris = Agent('Chris', (6,3), nh)\n",
    "    arrived = False\n",
    "    blocks = 0\n",
    "    while not arrived:\n",
    "        chris.walk(chris.random_move())\n",
    "        blocks += 1\n",
    "        arrived = chris.at_taco_bell()\n",
    "    sample_blocks.append(blocks)\n",
    "    \n",
    "print(np.mean(sample_blocks))"
   ]
  },
  {
   "cell_type": "markdown",
   "metadata": {},
   "source": [
    "**Reflection:**  The sequence of states (coordinates) that Chris passed through in his travels is a **Markov chain** - each new state depended only on the previous one.  This process, called a **random walk**, can be a useful way to explore a state space.\n",
    "\n",
    "\n",
    "\n",
    "### (c)\n",
    "\n",
    "Let us explore one of the characteristics of a Markov chain that we often find ourselves interested in:  the **expected time of first return** to a state.  In particular, let's examine Chris' **expected time of first return to Taco Bell**.\n",
    "\n",
    "Build an ensemble of 1,000 simulations of how many blocks Chris must travel to return to Taco Bell, given that he starts at Taco Bell in the neighborhood depicted in the figure above.\n",
    "\n",
    "We can estimate the expected time of first return to Taco Bell using the **mean** number of blocks Chris must travel in order to make it back to those tasty tacos. Report this estimate based on your simulation results."
   ]
  },
  {
   "cell_type": "code",
   "execution_count": 428,
   "metadata": {},
   "outputs": [
    {
     "name": "stdout",
     "output_type": "stream",
     "text": [
      "31.638\n"
     ]
    }
   ],
   "source": [
    "# Solution:\n",
    "\n",
    "taco_bell = (2,1)\n",
    "nh = Neighborhood(n_eastwest=5, n_northsouth=8, taco_bell=taco_bell)\n",
    "n_sample = 1000\n",
    "sample_blocks = []\n",
    "for n in range(n_sample):\n",
    "    chris = Agent('Chris', taco_bell, nh)\n",
    "    arrived = False\n",
    "    blocks = 0\n",
    "    while not arrived:\n",
    "        chris.walk(chris.random_move())\n",
    "        blocks += 1\n",
    "        arrived = chris.at_taco_bell()\n",
    "    sample_blocks.append(blocks)\n",
    "\n",
    "print(np.mean(sample_blocks))"
   ]
  }
 ],
 "metadata": {
  "kernelspec": {
   "display_name": "Python 3",
   "language": "python",
   "name": "python3"
  },
  "language_info": {
   "codemirror_mode": {
    "name": "ipython",
    "version": 3
   },
   "file_extension": ".py",
   "mimetype": "text/x-python",
   "name": "python",
   "nbconvert_exporter": "python",
   "pygments_lexer": "ipython3",
   "version": "3.6.4"
  }
 },
 "nbformat": 4,
 "nbformat_minor": 2
}
