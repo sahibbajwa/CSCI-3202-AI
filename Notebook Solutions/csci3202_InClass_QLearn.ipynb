{
 "cells": [
  {
   "cell_type": "markdown",
   "metadata": {},
   "source": [
    "# CSCI 3202, Fall 2020\n",
    "\n",
    "# Friday November 20, 2020\n",
    "\n",
    "# In-class notebook:  (Passive?) Q-Learning\n",
    "\n",
    "<a id='top'></a>\n",
    "\n",
    "<br>\n",
    "\n",
    "\n",
    "Shortcuts:  [Top](#top) || [Setup](#setup) || [Training](#train) || [OOP](#oop) || [Wrapup](#end) "
   ]
  },
  {
   "cell_type": "code",
   "execution_count": 1,
   "metadata": {},
   "outputs": [],
   "source": [
    "import numpy as np\n",
    "import matplotlib.pyplot as plt\n",
    "from matplotlib import colors\n",
    "from scipy import stats"
   ]
  },
  {
   "cell_type": "markdown",
   "metadata": {},
   "source": [
    "The first half of the code below is adapted from https://blog.floydhub.com/an-introduction-to-q-learning-reinforcement-learning/, an example by Sayak Paul."
   ]
  },
  {
   "cell_type": "markdown",
   "metadata": {},
   "source": [
    "<br>\n",
    "\n",
    "---\n",
    "\n",
    "## Problem Setup\n",
    "\n",
    "<a/ id='setup'></a>\n"
   ]
  },
  {
   "attachments": {
    "image.png": {
     "image/png": "[encoded data removed]"
    }
   },
   "cell_type": "markdown",
   "metadata": {},
   "source": [
    "![image.png](attachment:image.png)"
   ]
  },
  {
   "cell_type": "markdown",
   "metadata": {},
   "source": [
    "This is a *route-finding* problem.  Suppose we can move across the maze given where at any state we can move to the adjacent states, if not blocked by walls."
   ]
  },
  {
   "cell_type": "code",
   "execution_count": 2,
   "metadata": {},
   "outputs": [
    {
     "data": {
      "text/plain": [
       "array([[0, 1, 0, 0, 0, 0, 0, 0, 0],\n",
       "       [1, 0, 1, 0, 1, 0, 0, 0, 0],\n",
       "       [0, 1, 0, 0, 0, 1, 0, 0, 0],\n",
       "       [0, 0, 0, 0, 0, 0, 1, 0, 0],\n",
       "       [0, 1, 0, 0, 0, 0, 0, 1, 0],\n",
       "       [0, 0, 1, 0, 0, 0, 0, 0, 0],\n",
       "       [0, 0, 0, 1, 0, 0, 0, 1, 0],\n",
       "       [0, 0, 0, 0, 1, 0, 1, 0, 1],\n",
       "       [0, 0, 0, 0, 0, 0, 0, 1, 0]])"
      ]
     },
     "execution_count": 2,
     "metadata": {},
     "output_type": "execute_result"
    }
   ],
   "source": [
    "# Define the states\n",
    "location_to_state = {\n",
    "    'L1' : 0,\n",
    "    'L2' : 1,\n",
    "    'L3' : 2,\n",
    "    'L4' : 3,\n",
    "    'L5' : 4,\n",
    "    'L6' : 5,\n",
    "    'L7' : 6,\n",
    "    'L8' : 7,\n",
    "    'L9' : 8\n",
    "}\n",
    "\n",
    "# Define the actions\n",
    "actions = [0,1,2,3,4,5,6,7,8]\n",
    "\n",
    "# Define the rewards\n",
    "rewards = np.array([[0,1,0,0,0,0,0,0,0],\n",
    "              [1,0,1,0,1,0,0,0,0],\n",
    "              [0,1,0,0,0,1,0,0,0],\n",
    "              [0,0,0,0,0,0,1,0,0],\n",
    "              [0,1,0,0,0,0,0,1,0],\n",
    "              [0,0,1,0,0,0,0,0,0],\n",
    "              [0,0,0,1,0,0,0,1,0],\n",
    "              [0,0,0,0,1,0,1,0,1],\n",
    "              [0,0,0,0,0,0,0,1,0]])\n",
    "rewards"
   ]
  },
  {
   "cell_type": "code",
   "execution_count": 3,
   "metadata": {},
   "outputs": [
    {
     "data": {
      "text/plain": [
       "{0: 'L1',\n",
       " 1: 'L2',\n",
       " 2: 'L3',\n",
       " 3: 'L4',\n",
       " 4: 'L5',\n",
       " 5: 'L6',\n",
       " 6: 'L7',\n",
       " 7: 'L8',\n",
       " 8: 'L9'}"
      ]
     },
     "execution_count": 3,
     "metadata": {},
     "output_type": "execute_result"
    }
   ],
   "source": [
    "# Maps indices to locations\n",
    "state_to_location = dict((state,location) for location,state in location_to_state.items())\n",
    "state_to_location"
   ]
  },
  {
   "cell_type": "code",
   "execution_count": 4,
   "metadata": {},
   "outputs": [],
   "source": [
    "# Initialize parameters\n",
    "gamma = 0.75 # Discount factor \n",
    "alpha = 0.9 # Learning rate\n",
    "\n"
   ]
  },
  {
   "cell_type": "markdown",
   "metadata": {},
   "source": [
    "<br>\n",
    "\n",
    "---\n",
    "\n",
    "## Training:\n",
    "\n",
    "<a/ id='train'></a>\n"
   ]
  },
  {
   "cell_type": "markdown",
   "metadata": {},
   "source": [
    "Let's implement a temporal-difference agent that updates Q-values along the way.  This agent will:\n",
    "\n",
    "- have a desired goal state, with large positive rewards associated with reaching it\n",
    "- have training episodes:pick a state at random and undertake exactly one move from it.  Update Q-values.\n",
    "- Moves will be non-random: there is no transition probability matrix, and $P(s'| a \\, s)=1$ for the desired successor state\n",
    "- Eventually try to pick out the best move available at any given tile: or the shortest path from any start location to the goal state!"
   ]
  },
  {
   "cell_type": "code",
   "execution_count": 5,
   "metadata": {},
   "outputs": [
    {
     "name": "stdout",
     "output_type": "stream",
     "text": [
      "[[   0.         2249.5           0.            0.            0.\n",
      "     0.            0.            0.            0.        ]\n",
      " [1688.125         0.         2998.            0.         1688.125\n",
      "     0.            0.            0.            0.        ]\n",
      " [   0.         2249.5        3996.            0.            0.\n",
      "  2249.5           0.            0.            0.        ]\n",
      " [   0.            0.            0.            0.            0.\n",
      "     0.          951.3203125     0.            0.        ]\n",
      " [   0.         2249.5           0.            0.            0.\n",
      "     0.            0.         1267.09375       0.        ]\n",
      " [   0.            0.         2998.            0.            0.\n",
      "     0.            0.            0.            0.        ]\n",
      " [   0.            0.            0.          714.49023437    0.\n",
      "     0.            0.         1267.09375       0.        ]\n",
      " [   0.            0.            0.            0.         1688.125\n",
      "     0.          951.3203125     0.          951.3203125 ]\n",
      " [   0.            0.            0.            0.            0.\n",
      "     0.            0.         1267.09375       0.        ]]\n"
     ]
    }
   ],
   "source": [
    "\n",
    "ending_state=(2)\n",
    "\n",
    "# Initializing Q-Values\n",
    "Q = np.array(np.zeros([9,9]))\n",
    "# reward the exit/end location\n",
    "rewards_new=np.copy(rewards)\n",
    "rewards_new[ending_state,ending_state] = 999\n",
    "\n",
    "for i in range(10000):\n",
    "    # Pick up a state randomly\n",
    "    current_state = np.random.randint(0,9)\n",
    "\n",
    "    playable_actions = []\n",
    "# Iterate through the new rewards matrix and get the actions > 0\n",
    "#realistically this should live in its own dictionary/matrix first thing, and NOT BE RECOMPUTED\n",
    "    for j in range(9):\n",
    "        if rewards_new[current_state,j] > 0:\n",
    "            playable_actions.append(j)\n",
    "#     print(current_state, playable_actions)\n",
    "    next_state = np.random.choice(playable_actions) #random choice of action for the learning\n",
    "    \n",
    "    # Compute the Q difference between current state and where we ended up\n",
    "    QD = rewards_new[current_state,next_state] + gamma * Q[next_state, np.argmax(Q[next_state,])] - Q[current_state,next_state]\n",
    "\n",
    "    # Update the Q-Value for the action taken using the Bellman equation\n",
    "    Q[current_state,next_state] += alpha * QD\n",
    "\n",
    "print(Q)"
   ]
  },
  {
   "cell_type": "code",
   "execution_count": null,
   "metadata": {},
   "outputs": [],
   "source": [
    "def get_optimal_route(start_location,end_location, Q):\n",
    "    route = [start_location]\n",
    "    # We do not know about the next location yet, so initialize with the value of \n",
    "    # starting location\n",
    "    next_location = start_location\n",
    "    \n",
    "    # We don't know about the exact number of iterations\n",
    "    # needed to reach to the final location hence while loop will be a good choice \n",
    "    # for iteratiing\n",
    "    \n",
    "    while(next_location != end_location):\n",
    "        # Fetch the starting state\n",
    "        starting_state = location_to_state[start_location]\n",
    "        \n",
    "        # Fetch the highest Q-value pertaining to starting state\n",
    "        next_state = np.argmax(Q[starting_state,])\n",
    "        \n",
    "        # We got the index of the next state. But we need the corresponding letter. \n",
    "        next_location = state_to_location[next_state]\n",
    "        route.append(next_location)\n",
    "        \n",
    "        # Update the starting location for the next iteration\n",
    "        start_location = next_location\n",
    "    \n",
    "    return route\n",
    "\n",
    "get_optimal_route('L5','L3',Q)"
   ]
  },
  {
   "cell_type": "markdown",
   "metadata": {},
   "source": [
    "Now, that function will currently only guaranteed work if the end_location is 'L3', since that's the `end_location=2` \n",
    "we rewarded and used to solve for the Q-values.  Here's the above all glued into one function, so we can choose any start and end location: "
   ]
  },
  {
   "cell_type": "code",
   "execution_count": null,
   "metadata": {},
   "outputs": [],
   "source": [
    "def get_optimal_route(start_location,end_location):\n",
    "    # Copy the rewards matrix to new Matrix\n",
    "    rewards_new = np.copy(rewards)\n",
    "    \n",
    "    # Get the ending state corresponding to the ending location as given\n",
    "    ending_state = location_to_state[end_location]\n",
    "    \n",
    "    # With the above information automatically set the priority of  \n",
    "    # the given ending state to the highest one\n",
    "    rewards_new[ending_state,ending_state] = 999\n",
    "\n",
    "    # -----------Q-Learning algorithm-----------\n",
    "   \n",
    "    # Initializing Q-Values\n",
    "    Q = np.array(np.zeros([9,9]))\n",
    "\n",
    "    # Q-Learning process\n",
    "    for i in range(1000):\n",
    "        # Pick up a state randomly\n",
    "        current_state = np.random.randint(0,9) # Python excludes the upper bound\n",
    "        \n",
    "        # For traversing through the neighbor locations in the maze\n",
    "        playable_actions = []\n",
    "        \n",
    "        # Iterate through the new rewards matrix and get the actions > 0\n",
    "        for j in range(9):\n",
    "            if rewards_new[current_state,j] > 0:\n",
    "                playable_actions.append(j)\n",
    "        \n",
    "        # Pick an action randomly from the list of playable actions  \n",
    "        # leading us to the next state\n",
    "        next_state = np.random.choice(playable_actions)\n",
    "        \n",
    "        # Compute the Q-difference between where we started and where we ended up.\n",
    "        QD = rewards_new[current_state,next_state] + gamma * Q[next_state, np.argmax(Q[next_state,])] - Q[current_state,next_state]\n",
    "        \n",
    "        # Update the Q-Value using the Bellman equation\n",
    "        Q[current_state,next_state] += alpha * QD\n",
    "\n",
    "     # Initialize the optimal route with the starting location\n",
    "    route = [start_location]\n",
    "    # We do not know about the next location yet, so initialize with the value of \n",
    "    # starting location\n",
    "    next_location = start_location\n",
    "    \n",
    "    # We don't know about the exact number of iterations\n",
    "    # needed to reach to the final location hence while loop will be a good choice \n",
    "    # for iteratiing\n",
    "    \n",
    "    while(next_location != end_location):\n",
    "        # Fetch the starting state\n",
    "        starting_state = location_to_state[start_location]\n",
    "        \n",
    "        # Fetch the highest Q-value pertaining to starting state\n",
    "        next_state = np.argmax(Q[starting_state,])\n",
    "        \n",
    "        # We got the index of the next state. But we need the corresponding letter. \n",
    "        next_location = state_to_location[next_state]\n",
    "        route.append(next_location)\n",
    "        \n",
    "        # Update the starting location for the next iteration\n",
    "        start_location = next_location\n",
    "    \n",
    "    return route\n",
    "\n",
    "get_optimal_route('L9','L2')"
   ]
  },
  {
   "cell_type": "markdown",
   "metadata": {},
   "source": [
    "<br>\n",
    "\n",
    "---\n",
    "\n",
    "## An OOP rendition:\n",
    "\n",
    "<a/ id='oop'></a>\n"
   ]
  },
  {
   "cell_type": "markdown",
   "metadata": {},
   "source": [
    "Of course, we could also create a class for the agent, that needs all of these things in intialization and spans a broader class of problems."
   ]
  },
  {
   "cell_type": "code",
   "execution_count": null,
   "metadata": {},
   "outputs": [],
   "source": [
    "class QAgent():\n",
    "    \n",
    "    # Initialize alpha, gamma, states, actions, rewards, and Q-values\n",
    "    def __init__(self, alpha, gamma, location_to_state, actions, rewards, state_to_location, Q):\n",
    "        \n",
    "        self.gamma = gamma  \n",
    "        self.alpha = alpha \n",
    "        \n",
    "        self.location_to_state = location_to_state\n",
    "        self.actions = actions\n",
    "        self.rewards = rewards\n",
    "        self.state_to_location = state_to_location\n",
    "        \n",
    "        self.Q = Q\n",
    "        \n",
    "    # Training\n",
    "    def training(self, start_location, end_location, iterations):\n",
    "        \n",
    "        rewards_new = np.copy(self.rewards)\n",
    "        \n",
    "        ending_state = self.location_to_state[end_location]\n",
    "        rewards_new[ending_state, ending_state] = 999\n",
    "        \n",
    "        for i in range(iterations):\n",
    "            current_state = np.random.randint(0,9) \n",
    "            playable_actions = []\n",
    "\n",
    "            for j in range(9):\n",
    "                if rewards_new[current_state,j] > 0:\n",
    "                    playable_actions.append(j)\n",
    "    \n",
    "            next_state = np.random.choice(playable_actions)\n",
    "            QD = rewards_new[current_state,next_state] + \\\n",
    "                    self.gamma * self.Q[next_state, np.argmax(self.Q[next_state,])] - self.Q[current_state,next_state]\n",
    "            \n",
    "            self.Q[current_state,next_state] += self.alpha * QD\n",
    "\n",
    "        route = [start_location]\n",
    "        next_location = start_location\n",
    "        \n",
    "        # Get the route \n",
    "        self.get_optimal_route(start_location, end_location, next_location, route, self.Q)\n",
    "        \n",
    "    # Get the optimal route\n",
    "    def get_optimal_route(self, start_location, end_location, next_location, route, Q):\n",
    "        \n",
    "        while(next_location != end_location):\n",
    "            starting_state = self.location_to_state[start_location]\n",
    "            next_state = np.argmax(Q[starting_state,])\n",
    "            next_location = self.state_to_location[next_state]\n",
    "            route.append(next_location)\n",
    "            start_location = next_location\n",
    "        \n",
    "        print(route)\n",
    "        "
   ]
  },
  {
   "cell_type": "code",
   "execution_count": null,
   "metadata": {},
   "outputs": [],
   "source": [
    "qagent = QAgent(alpha, gamma, location_to_state, actions, rewards,  state_to_location, Q)\n",
    "qagent.training('L9', 'L1', 1000)"
   ]
  },
  {
   "cell_type": "markdown",
   "metadata": {},
   "source": [
    "<br>\n",
    "\n",
    "---\n",
    "\n",
    "## Roundup:\n",
    "\n",
    "<a/ id='end'></a>\n"
   ]
  },
  {
   "cell_type": "markdown",
   "metadata": {},
   "source": [
    "There are a few reasons this code might be unsatisfactory, and only could handle a very small subset of problems we want a `QAgent()` to handle!  We might have to adjust it for a variety of things in a real-world problem that isn't just route-finding on an open grid.\n",
    "\n",
    "**Not perfectly observable state space**, or **Real Training**\n",
    "\n",
    "In the above code, our \"training episodes\" consisted of exactly one move each.  This is atypical!  It's more common to have some kind of double loop, where the inner loop is an entire route-find including random actions and the outer loop repeats that experiment.  This would lead to a variable amount of Q-updates per trip through the inner loop!\n",
    "\n",
    "We need those extra episodes for two reasons:\n",
    "\n",
    "- many agents don't get to start with all locations/states initialized.  They have to explore the state and add to those dicitonaries as new states are discovered!  We would want a function that appends as we go.\n",
    "- Allowing the agent to explore route sequentially allows to eventually prioritize **exploitation** over just **exploration**."
   ]
  },
  {
   "cell_type": "markdown",
   "metadata": {},
   "source": [
    "**Truly Stochastic movement**\n",
    "\n",
    "In the example above, we used `np.random.choice(playable_actions)` to choose an action, and then immediately retrieved `next_state` from it.  More realistically, we might want some stochastic component, where there's a function that tells us next state as a function of action, but it's probabilitistic: "
   ]
  },
  {
   "cell_type": "code",
   "execution_count": null,
   "metadata": {},
   "outputs": [],
   "source": [
    "def new_state(state, movement):\n",
    "    #Function that returns the result of *ACTUAL* movement; e.g.\n",
    "    #if movement = up:\n",
    "        #return (state[0], state[1]+1)\n",
    "    #if movement = right:\n",
    "        #return (state[0]+1, state[1])\n",
    "    return\n",
    "\n",
    "#here's one we've seen before: Prob=p we take the desired action, 1-p we randomly get another action\n",
    "def transition(state, action, playable_actions,p):\n",
    "    roll=np.random.random()\n",
    "    \n",
    "    if roll<p:\n",
    "        print(state, action)\n",
    "        return new_state(state,action)\n",
    "    if roll>p:\n",
    "        result_action=np.random.choice(playable_actions) #or maybe playable actions exluding \"action\"\n",
    "        print(state, result_action)\n",
    "        return new_state(state,result_action)\n",
    "\n",
    "for i in range(20):\n",
    "    transition(0,1,[2,3], .80)\n"
   ]
  },
  {
   "cell_type": "markdown",
   "metadata": {},
   "source": [
    "Note that if we do this, we still update the Q-values corresponding to `(state, action)`, but the \"other\" location which we use to increment rewards and calculate the Q-difference is the output state of the `transition` function, not the Q value of where we \"tried\" to move.\n",
    "\n",
    "Crucially the `new_state` function is the one that describes the **actual process** if the problem is one that we don't always know how things result.  This is often hidden from our agent: what will the computer do/the screen look like if we push \"right\" on the controller in a game of Pac-Man?  This is in the next_state portion of the model, and could require us actually just implement the action given by transition and record what actually happens!"
   ]
  },
  {
   "cell_type": "markdown",
   "metadata": {},
   "source": [
    "**Learning Exploration rather than truly random**\n",
    "\n",
    "Not only is the movement itself deterministic in our opening problem, our agent is using `np.random.choice(playable_actions)` to choose which state-action pair to update!\n",
    "\n",
    "In reality, we often want to encourage our agent to persue rewards, especially as the sample space may become too large to brute-force all possible state-action pairs.\n",
    "\n",
    "A more appropriate implementation of that choice might be to create a function and a new dictionary:"
   ]
  },
  {
   "cell_type": "code",
   "execution_count": null,
   "metadata": {},
   "outputs": [],
   "source": [
    "actstaken={}\n",
    "\n",
    "for location,state in location_to_state.items():\n",
    "    for location,action in location_to_state.items():\n",
    "        actstaken[(state,action)]=0\n",
    "        \n",
    "actstaken\n",
    "\n",
    "#inflate utility by a multiple until we've taken that action \"ne\" times\n",
    "def explorationfunc(utility, actstaken,ne=10):\n",
    "    if actstaken>ne:\n",
    "        return utility\n",
    "    else: return utility*10\n",
    "print(actstaken)"
   ]
  },
  {
   "cell_type": "markdown",
   "metadata": {},
   "source": [
    "Then we would replace the `np.random.choice(playable_actions)` with a function that evaluates the 'explorationfunc' at each of the playable actions, and chooses that one.  After we observe the `next_state` from that action, we would update the actstaken counter accordingly.  And possible also the utility in the same dictionary!\n",
    "\n",
    "\n",
    "For this problem tuples of the form `(state1, state2)` work as actions.  This led to a quare matrix or an $n^2$ size dictionary above.  More generally, a similar problem would work with tuples of the form `(location, direction)`, where each location has only a few *actions* associated with it, like \"Up\", \"Down\", \"Left\", \"Right\", etc.\n",
    "\n",
    "In reality, we could hold a *single* dictionary thats of the form:\n",
    "\n",
    "actions={\n",
    "\n",
    "(0,'right'): [Qval, ne],\n",
    "\n",
    "(1,'left'): [Qval, ne],\n",
    "\n",
    "(1,'down'): [Qval, ne],\n",
    "\n",
    "(1,'right'): [Qval, ne],\n",
    "\n",
    "...}\n",
    "\n",
    "Or we could nest the dictionaries, so the structure becomes:\n",
    "\n",
    "actions={\n",
    "\n",
    "0: {'right': [Qval, ne]},\n",
    "\n",
    "1: {'left': [Qval, ne], 'down': [Qval, ne], 'right': [Qval, ne]},\n",
    "\n",
    "...}\n",
    "\n",
    "\n",
    "The nested dictionaries is particularly appealing if the `state` tuples start becoming more complex, like multivariate data.  We'll play with an example where `state=(position, velocity)` in a future example!"
   ]
  },
  {
   "cell_type": "code",
   "execution_count": null,
   "metadata": {},
   "outputs": [],
   "source": []
  },
  {
   "cell_type": "code",
   "execution_count": null,
   "metadata": {},
   "outputs": [],
   "source": []
  },
  {
   "cell_type": "code",
   "execution_count": null,
   "metadata": {},
   "outputs": [],
   "source": []
  }
 ],
 "metadata": {
  "kernelspec": {
   "display_name": "Python 3",
   "language": "python",
   "name": "python3"
  },
  "language_info": {
   "codemirror_mode": {
    "name": "ipython",
    "version": 3
   },
   "file_extension": ".py",
   "mimetype": "text/x-python",
   "name": "python",
   "nbconvert_exporter": "python",
   "pygments_lexer": "ipython3",
   "version": "3.8.5"
  }
 },
 "nbformat": 4,
 "nbformat_minor": 4
}
