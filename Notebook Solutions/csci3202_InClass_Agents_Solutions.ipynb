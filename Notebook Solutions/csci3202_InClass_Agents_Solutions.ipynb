{
 "cells": [
  {
   "cell_type": "markdown",
   "metadata": {},
   "source": [
    "# CSCI 3202, Spring 2020\n",
    "\n",
    "# Wednesday January 22, 2020\n",
    "\n",
    "# In-class notebook:  Agents\n",
    "\n",
    "<a id='top'></a>\n",
    "\n",
    "<br>\n",
    "\n",
    "Shortcuts:  [Top](#top) || [0](#p0) || [1](#p1) | [1a](#p1a) | [1b](#p1b) | [1c](#p1c) | [1d](#p1d) "
   ]
  },
  {
   "cell_type": "markdown",
   "metadata": {},
   "source": [
    "Before you begin, load the packages below (you might find they are handy)"
   ]
  },
  {
   "cell_type": "code",
   "execution_count": 1,
   "metadata": {},
   "outputs": [],
   "source": [
    "import numpy as np\n",
    "import matplotlib.pyplot as plt\n",
    "from matplotlib import colors\n",
    "from scipy import stats"
   ]
  },
  {
   "cell_type": "markdown",
   "metadata": {},
   "source": [
    "<br>\n",
    "\n",
    "---\n",
    "\n",
    "## Problem 0\n",
    "\n",
    "<a/ id='p0'></a>\n",
    "\n",
    "#### Set up and representing the task environment\n",
    "\n",
    "Let's design some worlds! Specifically, we want to represent things like a brave knight searching a cave for treasure, or a puppy running around a park, or a Roomba cleaning up a messy house.\n",
    "\n",
    "This initial part (Problem 0) is going to have a lot of text. But I swear it is worth reading through, because the next few problems will build off of this generic task environment framework.\n",
    "\n",
    "**Final note:** Many of these problems are intentionally open-ended. Part of the point is to get some practice designing objects, specifically to represent things that are much more overtly \"AI\" than search algorithms. But (in my view) much more of the point is to **exercise the creative side of programming**. If there was only one answer, it wouldn't be nearly as much fun. \n",
    "\n",
    "<br>"
   ]
  },
  {
   "cell_type": "markdown",
   "metadata": {},
   "source": [
    "First, let's set up some generic classes to represent `Environment`, `Agent` and `Thing`. We have a bunch of methods defined for an `Environment`, all based on what we imagine our needs might be for having an agent running around in the environment, picking things up (vacuuming, eating, holding,...) and putting them back down (a vacuum being full and spitting dirt back out, a puppy putting a bone down so it can drink water,...).\n",
    "\n",
    "The first 3 methods are used to set up the environment, and populate it with things, or remove things from it:\n",
    "* constructor: we feed in the dimensions of a square grid environment, and subtract 1 from each to account for the fact that Python is 0-based, but we are sending in the number of tiles in each direction. The lower-left corner of the environment is assumed to be (0,0). The environment can also have `things` and `agents` in it, so we create a list for each of those.\n",
    "* `add_thing`: we want to be able to add things to the environment. Later, we will look at creating a class to represent `Thing`s.  We need as input to this a Thing and its location (Cartesian coordinates).\n",
    "* `remove_thing`: we might need to remove some things from the environment. \n",
    "\n",
    "The next 3 methods are useful for representing agents' **sensors**. Namely, we are concerned about whether or not the agent can sense things at or near the agent.\n",
    "* `things_near`: we might be interested to know what are all the things in the tiles *adjacent* to the agent's location (as well as at the agent's location), so we return this as a list.\n",
    "* `things_at`: perhaps we have an agent that can only sense what is going on in its location (otherwise, the same as `things_near`)\n",
    "* `percepts`: by default in this generic `Environment` class, the agents will be able to perceive anything *near* them. We can override this later depending on if we think our agent should be able to sense more or less.\n",
    "\n",
    "We have 3 methods to represent the agent moving through a 2D rectangular grid environment, as well as executing a couple other generic **actions**.\n",
    "* `hit_wall`: we know the boundaries of the environment, so if the agent tries to move outside of them, we need to let it know that it has bumped into a wall\n",
    "* `move`: the agent tries to execute a move\n",
    "* `execute_action`: here is the meat and cheese of the agent's actuators. In this generic class, we allow the agent to move in any of the four cardinal directions, as well as pick things up (`Grab`) and set things down (`Drop`).\n",
    "\n",
    "Finally, we need a few more methods to define how the actual simulation for the task environment is to proceed.\n",
    "* `is_done`: returns True if there are no more \"living\" agents to simulate\n",
    "* `step`: executes a single time step of the environment: the agent senses the environment, and then acts. This method by default is assuming a single agent, but we could override this to make it more general. You will notice that the `step` method is where we print output to the screen to stay apprised of what is going on in our virtual world.\n",
    "* `driver`: this is the driver method, which takes as an argument the number of time steps to run (default is 5).\n"
   ]
  },
  {
   "cell_type": "code",
   "execution_count": 2,
   "metadata": {},
   "outputs": [],
   "source": [
    "class Environment:\n",
    "\n",
    "    def __init__(self, width, height):\n",
    "        self.width = width-1    # relative to 0, so subtract 1\n",
    "        self.height = height-1\n",
    "        self.things = []\n",
    "        self.agents = []\n",
    "\n",
    "    #\n",
    "    # The following 2 methods allow us to add Things or remove Things from the environment\n",
    "    #\n",
    "    \n",
    "    def add_thing(self, thing, location):\n",
    "        '''Add a thing to the environment and set its location.\n",
    "        For convenience, if thing is an agent program we make a new agent for it.'''\n",
    "        # first, check if the desired location is in-bounds\n",
    "        out_of_bounds = (location[0] > self.width or location[0] < 0 or\n",
    "                         location[1] > self.height or location[1] < 0)\n",
    "        if out_of_bounds:\n",
    "            print('Warning: failed to add {} object at {}'.format(thing.__class__.__name__, location))\n",
    "            return\n",
    "\n",
    "        if not isinstance(thing, Thing):\n",
    "            thing = Agent(thing)\n",
    "        thing.location = location\n",
    "        self.things.append(thing)\n",
    "        if isinstance(thing, Agent):\n",
    "            self.agents.append(thing)\n",
    "\n",
    "    def remove_thing(self, thing):\n",
    "        if thing in self.things:\n",
    "            self.things.remove(thing)\n",
    "            return True\n",
    "        elif thing in self.agents:\n",
    "            self.agents.remove(thing)\n",
    "            return True\n",
    "        else:\n",
    "            return False\n",
    "\n",
    "    #\n",
    "    # The next 3 methods set up the agent's perception of things around it (SENSORS)\n",
    "    #\n",
    "    \n",
    "    def things_near(self, location):\n",
    "        '''return all things around the given location'''\n",
    "        things = []\n",
    "        for thing in self.things:  \n",
    "            # look within a radius of 1 around the agent; on Cartesian grid, \n",
    "            # this will only return the Things at the adjacent squares\n",
    "            # NOTE: if you wanted to let the agent have great vision/better sensors, this\n",
    "            #       could be modified\n",
    "            if np.sqrt( (thing.location[0]-location[0])**2 + (thing.location[1]-location[1])**2) <= 1:\n",
    "                things.append(thing)\n",
    "        return things\n",
    "    \n",
    "    def things_at(self, location):\n",
    "        '''return all things at the given location'''\n",
    "        things = []\n",
    "        for thing in self.things:        \n",
    "            if thing.location==location:\n",
    "                things.append(thing)\n",
    "        return things\n",
    "    \n",
    "    def percepts(self, agent):\n",
    "        '''the agent can perceive things N/S/E/W of their location'''\n",
    "        return self.things_near(agent.location)\n",
    "\n",
    "    #\n",
    "    # The next 3 methods set up how the agent can interact with the environment (ACTUATORS)\n",
    "    #\n",
    "    \n",
    "    def hit_wall(self, location):\n",
    "        '''hit a wall/boundary if the agent tries to go out of bounds'''\n",
    "        return (location[0] > self.width or location[0] < 0 or location[1] > self.height or location[1] < 0)\n",
    "        \n",
    "    def move(self, agent, direction):\n",
    "        '''get the new agent location, but revert to old if it bumps into boundary'''\n",
    "        locx, locy = agent.location\n",
    "        if direction=='N':\n",
    "            newLocation = locx, locy+1    \n",
    "        elif direction=='S':\n",
    "            newLocation = locx, locy-1\n",
    "        elif direction=='E':\n",
    "            newLocation = locx+1, locy\n",
    "        elif direction=='W':\n",
    "            newLocation = locx-1, locy\n",
    "        bump = self.hit_wall(newLocation)\n",
    "        agent.location = newLocation if not bump else location\n",
    "        return (not bump)\n",
    "            \n",
    "    def execute_action(self, agent, action):\n",
    "        if action in ['N','S','E','W']:\n",
    "            bump = self.move(agent, action)\n",
    "        elif action == 'Grab':\n",
    "            things = [thing for thing in self.things_at(agent.location)]\n",
    "            if things:\n",
    "                agent.holding.append(things[0])\n",
    "                self.remove_thing(things[0])\n",
    "        elif action == 'Drop':\n",
    "            if agent.holding:\n",
    "                dropped = agent.holding.pop()\n",
    "                self.add_thing(thing=dropped, location=agent.location)\n",
    "\n",
    "    #\n",
    "    # These last 3 methods set up how the simulation for the task environment will be run\n",
    "    #\n",
    "    \n",
    "    def is_done(self):\n",
    "        '''end the simulation if there are no living agents (or end of time steps)'''\n",
    "        return not any(agent.is_alive() for agent in self.agents)\n",
    "\n",
    "    def step(self, quiet):\n",
    "        '''run one time step of the environment; assumes a single agent'''\n",
    "        if not self.is_done():\n",
    "            # assuming a single agent here!\n",
    "            agent = self.agents[0]\n",
    "            action = agent.function(self.percepts(agent))\n",
    "            if not quiet:\n",
    "                print('Agent {} executes action {} at location {}'.format(agent.name, action, agent.location))\n",
    "            self.execute_action(agent, action)\n",
    "\n",
    "    def driver(self, n_steps=5, quiet=False):\n",
    "        '''a driver method to run the environment for n_steps time steps\n",
    "        quiet=True will suppress output to screen to update (helpful for long simulations)'''\n",
    "        for step in range(n_steps):\n",
    "            self.step(quiet)"
   ]
  },
  {
   "cell_type": "markdown",
   "metadata": {},
   "source": [
    "Okay, you've made it this far. You deserve a reward.  Here's a picture of a baby sloth wearing pajamas and taking a selfie.\n",
    "\n",
    "<img src=\"https://i.pinimg.com/736x/bc/4b/4c/bc4b4c4c01a6a82d8991524c9f41f6ce--pajamas-pjs.jpg\" style=\"width: 200px;\"/>\n",
    "\n",
    "\n",
    "Now then. We should define some generic classes for `Thing`s and `Agent`s.  We can consider an `Agent` to be a subclass of `Thing`, since it is just a special case of general objects that we are putting in our environment.\n",
    "\n",
    "Our generic `Thing` class is pretty sparse. Basically, we are going to throw down some objects and declare whether or not they are alive. It serves as a basis for representing other things later that we can add other useful attributes to."
   ]
  },
  {
   "cell_type": "code",
   "execution_count": 3,
   "metadata": {},
   "outputs": [],
   "source": [
    "class Thing:\n",
    "    '''represent things in the environment'''\n",
    "    \n",
    "    def __init__(self):\n",
    "        pass\n",
    "        \n",
    "    def is_alive(self):\n",
    "        '''is this thing alive?'''\n",
    "        return hasattr(self, 'alive') and self.alive"
   ]
  },
  {
   "cell_type": "markdown",
   "metadata": {},
   "source": [
    "Finally, we can create an `Agent` as a subclass of `Thing`.  We should provide a **name** for our agents, and an **agent function**.  Recall that the agent function is what is \"doing the AI\". That is, the agent function takes as input the percepts, and provides as output the appropriate agent actions to take.\n",
    "\n",
    "Note that in case an agent function argument is not provided, we have a nice default course of action for a listless agent. There is also an attribute of the agent to store its `performance` measure, once we decide how to evaluate that."
   ]
  },
  {
   "cell_type": "code",
   "execution_count": 4,
   "metadata": {},
   "outputs": [],
   "source": [
    "class Agent(Thing):\n",
    "    \n",
    "    def __init__(self, name, agent_function=None):\n",
    "        self.alive = True\n",
    "        self.name = name\n",
    "        self.holding = []\n",
    "        self.performance = 0\n",
    "        if agent_function is None:\n",
    "            print('Warning: Agent {} missing agent_function. Using a silly default.'.format(self.name))\n",
    "            \n",
    "            def agent_function(percepts):\n",
    "                '''Only move left. It is the finest direction, after all.\n",
    "                Note that this only is run if the user does not supply a valid agent_function'''\n",
    "                return 'W'\n",
    "\n",
    "        self.function = agent_function"
   ]
  },
  {
   "cell_type": "markdown",
   "metadata": {},
   "source": [
    "<br>\n",
    "\n",
    "---\n",
    "\n",
    "[Back to top](#top)\n",
    "\n",
    "<br>\n",
    "\n",
    "<img src=\"http://www.irobotweb.com/-/media/Images/Product-Pages/Roomba-Learn/Mini-Compare/960-Product-Image.png?h=292&la=en&w=286\" alt=\"Drawing\" style=\"width: 120px;\"/>\n",
    "\n",
    "<a/ id='p1'></a>\n",
    "## Problem 1:  Let's talk Roombas.\n",
    "\n",
    "The generic `Environment`/`Thing`/`Agent` set-up above is a pretty nice framework for tackling a variety of problems, but we will need to override a few components of it to make this function well for the specific task environment of a Roomba cleaning up a dirty room.\n",
    "\n",
    "First, let's create a **simple reflex agent**, `ReflexRoombaAgent`, method.  This function will take in an argument **name**, representing the agent's name.  Then, an `agent_function` is defined.  This is the most problem-specific part.  The `agent_function` below is specific to our simple two-tile environment that we will play around with initially.  Later, we will modify and extend this to larger rooms, and to other problems.\n",
    "\n",
    "After defining the `agent_function`, the `ReflexRoombaAgent` constructs an `Agent` object using the generic template above, but with Roomba-specific programming (i.e., `agent_function`)."
   ]
  },
  {
   "cell_type": "code",
   "execution_count": 5,
   "metadata": {},
   "outputs": [],
   "source": [
    "def ReflexRoombaAgent(name):\n",
    "    '''reflex Roomba agent. Takes percept as input, which is a tuple of (location, status)\n",
    "    and returns the appropriate action. This will override the default in the Agent class of \n",
    "    only moving West'''\n",
    "    def agent_function(percepts):\n",
    "        location, status = percepts\n",
    "        if status == 'Dirty':\n",
    "            return 'Vacuum'\n",
    "        elif location == (0,0):\n",
    "            return 'E'\n",
    "        elif location == (1,0):\n",
    "            return 'W'\n",
    "        \n",
    "    return Agent(name, agent_function)        "
   ]
  },
  {
   "cell_type": "markdown",
   "metadata": {},
   "source": [
    "This Roomba is going to need some `Thing`s to clean up - namely, dirt! So let's create a subclass of `Thing` to represent dirt. If you haven't seen or used the `pass` statement in Python, it is just a placeholder when there needs to be *some*thing in that line, since Python syntax relies on whitespace. (Otherwise, we wouldn't know when to end the definition for the Dirt class.)"
   ]
  },
  {
   "cell_type": "code",
   "execution_count": 6,
   "metadata": {},
   "outputs": [],
   "source": [
    "class Dirt(Thing):\n",
    "    pass"
   ]
  },
  {
   "cell_type": "markdown",
   "metadata": {},
   "source": [
    "Now that we have a Roomba and Dirt, specific to our vacuum task environment, let's make the `Environment` a bit more problem-specific.  The agent interacts with the environment through percepts and actuators, so we will need to override those defaults from the main Environment class. \n",
    "\n",
    "For `percepts`, we will assume that the agent can sense (1) its location and (2) whether that location is clean or dirty.  `percepts` takes as the argument the **agent**, and returns a tuple of (**location**, **status**).  Note that the actual \"sensing\" is done by the `Environment` method `things_at(location)`. That line checks whether or not any of the `things_at` the agent's location are of class Dirt. Note that it is possible to have multiple instances of Dirt in  given location, which could reflect the fact that in real life, sometimes our house is just really gross.\n",
    "\n",
    "For actuators, the generic `execute_action` method is almost good enough. We can override the `Grab` action with something more meaningful to our application.  Let's rename that as `Vacuum`, and call the things we want to grab `messes`.\n",
    "\n",
    "We only want the Roomba to pick up things that are Dirt (ideally), so we add the condition `if isinstance(thing, Dirt)`.  Notice that the Roomba will only pick up the *first* unit of dirt that it senses. This reflects the reality that if a tile is *really* dirty, it should take the Roomba longer to clean it up than a just mildly dirty tile.\n",
    "\n",
    "Notice that we also store in Roomba's `holding` attribute all of the different units of dirt that it has picked up. Later, we will generalize this problem so that Roomba can only store a finite amount of dirt, which is of course how real vacuums work."
   ]
  },
  {
   "cell_type": "code",
   "execution_count": 7,
   "metadata": {},
   "outputs": [],
   "source": [
    "class VacuumEnvironment(Environment):\n",
    "            \n",
    "    def percepts(self, agent):\n",
    "        ''' the percept is a tuple of (location, status) '''\n",
    "        status = 'Dirty' if any([isinstance(item, Dirt) \n",
    "                                 for item in room.things_at(location=agent.location)]) else 'Clean'\n",
    "        return (agent.location, status)\n",
    "\n",
    "    def execute_action(self, agent, action):\n",
    "        ''' override the default execute_action in Environment class, so that\n",
    "        for the Roomba we remove '''\n",
    "        if action in ['N','S','E','W']:\n",
    "            bump = self.move(agent, action)\n",
    "        elif action == 'Vacuum':\n",
    "            messes = [thing for thing in room.things_at(roomba.location) if isinstance(thing, Dirt)]\n",
    "            if messes:\n",
    "                agent.holding.append(messes[0])\n",
    "                self.remove_thing(messes[0])\n",
    "        elif action == 'Drop':\n",
    "            if agent.holding:\n",
    "                dropped = agent.holding.pop()\n",
    "                self.add_thing(thing=dropped, location=agent.location)"
   ]
  },
  {
   "cell_type": "markdown",
   "metadata": {},
   "source": [
    "<br>\n",
    "\n",
    "<a/ id='p1a'></a>\n",
    "### (1a)\n",
    "\n",
    "#### Enough chit chat. Play time!\n",
    "\n",
    "Create a **room** that is a `VacuumEnvironment` with width=2 and height=1 (i.e., the standard two-tile room from the introductory set of slides where we introduced the concept of agents). Notice that the Cartesian coordinates of the tiles are (0,0) and (1,0), for a width of 2 and height of 1."
   ]
  },
  {
   "cell_type": "code",
   "execution_count": 8,
   "metadata": {},
   "outputs": [],
   "source": [
    "room = VacuumEnvironment(width=2, height=1)"
   ]
  },
  {
   "cell_type": "markdown",
   "metadata": {},
   "source": [
    "If we have a room, and that room can get dirty, we should probably instantiate a `ReflexRoombaAgent`.  Since our `ReflexRoombaAgent` is of class `Agent`, which is a subclass of `Thing`, we will need to use the `add_thing` method to add our Roomba to the **room**.  Here, you can see that we are adding the Roomba to the tile at (0,0).\n",
    "\n",
    "**Most importantly:** Give your Roomba a sweet name."
   ]
  },
  {
   "cell_type": "code",
   "execution_count": 9,
   "metadata": {},
   "outputs": [],
   "source": [
    "roomba = ReflexRoombaAgent('Speedy')\n",
    "room.add_thing(roomba, location=(0,0))"
   ]
  },
  {
   "cell_type": "markdown",
   "metadata": {},
   "source": [
    "Finally, to set up the environment, let's sprinkle some dirt around.  In fact, let's set it up so that both tiles are `Dirty`."
   ]
  },
  {
   "cell_type": "code",
   "execution_count": 10,
   "metadata": {},
   "outputs": [],
   "source": [
    "room.add_thing(Dirt(), location=(0,0))\n",
    "room.add_thing(Dirt(), location=(1,0))"
   ]
  },
  {
   "cell_type": "markdown",
   "metadata": {},
   "source": [
    "At long last, we are ready to actually run our simulation.  Let's run for 6 time steps."
   ]
  },
  {
   "cell_type": "code",
   "execution_count": 10,
   "metadata": {},
   "outputs": [
    {
     "name": "stdout",
     "output_type": "stream",
     "text": [
      "Agent Speedy executes action E at location (0, 0)\n",
      "Agent Speedy executes action W at location (1, 0)\n",
      "Agent Speedy executes action E at location (0, 0)\n",
      "Agent Speedy executes action W at location (1, 0)\n",
      "Agent Speedy executes action E at location (0, 0)\n",
      "Agent Speedy executes action W at location (1, 0)\n"
     ]
    }
   ],
   "source": [
    "room.driver(6)"
   ]
  },
  {
   "cell_type": "markdown",
   "metadata": {},
   "source": [
    "Okay, that looks like it went smoothly.  We should check that everything is working though.  After 6 time steps, the Roomba should have been able to vacuum up the patches of dirt in both tiles.  Then, what does the agent do? Check out the `agent_function` definition to make sure that, after the agent vacuums up all the dirt, it does what you expect.\n",
    "\n",
    "We can also check to make sure the list of things in the room, and the list of what all the Roomba agent is holding, both match our expectations.  What should be left in the room?  What should Roomba be holding?  Design a couple `print` statements to check that our task environment looks the way we expect."
   ]
  },
  {
   "cell_type": "code",
   "execution_count": 12,
   "metadata": {},
   "outputs": [
    {
     "name": "stdout",
     "output_type": "stream",
     "text": [
      "Things left in the room: ['Agent']\n",
      "Things agent is holding: ['Dirt', 'Dirt']\n"
     ]
    }
   ],
   "source": [
    "print('Things left in the room: {}'.format([thing.__class__.__name__ for thing in room.things]))\n",
    "print('Things agent is holding: {}'.format([thing.__class__.__name__ for thing in roomba.holding]))"
   ]
  },
  {
   "cell_type": "markdown",
   "metadata": {},
   "source": [
    "<br>\n",
    "\n",
    "Now that we have a basic Roomba agent in a very simple room, let's start to add in layers of complexity/reality. Each part of the rest of this problem adds another feature or set of features to make our Roomba Agents a bit more like actual Roombas.  By the end of this problem, our \"toy\" Roombas will be pretty similar to actual Roombas.\n",
    "\n",
    "For the next few parts, my approach would be to only modify the Roomba-specific programming from **Problem 1** and beyond; try to leave the stuff in **Problem 0** alone, if you can. The point of the `ReflexRoombaAgent` and `VacuumEnvironment` classes is to take the generic `Agent` and `Environment` classes and apply vacuum-specific methods, as opposed to hard-coding the entire gory mess from (e.g.) the `Environment` class in **Problem 0**. So, instead of jumping back and forth to modify the codes from **1a**, the easiest thing to do to implement these additional code features is probably to begin by copy-pasting, but then giving the new subclasses here new names.\n"
   ]
  },
  {
   "cell_type": "markdown",
   "metadata": {},
   "source": [
    "<br>\n",
    "\n",
    "<a/ id='p1b'></a>\n",
    "### (1b)\n",
    "\n",
    "Also implement the following features. It is probably easiest to do these **one at a time**, to make sure you know which breaks your code if things go off the rails.\n",
    "1. Include a performance measure for the agent to keep track of.  You should decide for yourselves how you want to measure your Roomba's performance. Here are some general guidelines:\n",
    "  * Reward cleanliness\n",
    "  * Penalize excessive moving around\n",
    "1. Implement a model-based agent\n",
    "  * Keep track of which tiles are clean/dirty\n",
    "  * Perhaps use an attribute of the agent called **model** that updates the agent's internal map of where the clean/dirty tiles all are. The entire room is initially unknown.\n",
    "  * For example, if the Roomba agent has just come from cleaning the tile at (0,0), and has now just cleaned the tile at (1,0), then the Roomba ought to know that going straight back to (0,0) is not the best option.\n",
    "  * You may want to add a **NoOp** (\"no operation\" or \"do nothing\") action choice, since moving around unnecessarily will worsen the agent's performance measure.\n",
    "1. Stochastically generate new dirt every so often\n",
    "  * Based on how long it has been since the agent last cleaned a particular tile, it may be necessary to circle back around and check the tiles again for dirt (since it may have appeared stochastically). Thus, the agent will need to track in its model *how long* it has been since it has cleaned each tile.\n",
    "  * It may be useful to print a message to the screen denoting the location of new dirt, if dirt appears somewhere.\n",
    "\n",
    "The following code snippet could implement stochastic dirt appearance with probability `p_dirt` for each tile for each time step.  You are encouraged to modify `p_dirt` as you see fit.  The default here is a 1/10 probability of dirt appearing on any given tile at any given time step, possibly from a puppy with muddy paws or a roommate just returning from a hike.  Note that *all* tiles will need to be updated in this way, and that `p_dirt` is probably most appropriate to specify as an attribute of the environment."
   ]
  },
  {
   "cell_type": "code",
   "execution_count": 13,
   "metadata": {},
   "outputs": [],
   "source": [
    "p_dirt = 0.1\n",
    "updateStatus = np.random.choice(['Clean','Dirty'], p=[1-p_dirt, p_dirt])"
   ]
  },
  {
   "cell_type": "code",
   "execution_count": 14,
   "metadata": {},
   "outputs": [],
   "source": [
    "# Solution:\n",
    "\n",
    "def ModelBasedRoombaAgent(name, wait_limit=5):\n",
    "    \n",
    "    model = {(0,0) : [None,0], (1,0) : [None,0]}\n",
    "\n",
    "    def agent_function(percepts):\n",
    "        location, status = percepts\n",
    "        \n",
    "        #update the agent's internal model\n",
    "        model[location][0] = status\n",
    "        \n",
    "        # NoOp strategy:\n",
    "        if all(model[k][0]=='Clean' and model[k][1] <= wait_limit for k in model.keys()):\n",
    "            for k in model.keys():\n",
    "                model[k][1] += 1 \n",
    "            return 'NoOp'\n",
    "        elif status == 'Dirty':\n",
    "            for k in model.keys():\n",
    "                if location==k:\n",
    "                    model[k][1] = 0\n",
    "                else:\n",
    "                    model[k][1] += 1\n",
    "            return 'Vacuum'\n",
    "        elif location == (0,0):\n",
    "            for k in model.keys():\n",
    "                if location!=k:\n",
    "                    model[k][1] += 1\n",
    "            return 'E'\n",
    "        elif location == (1,0):\n",
    "            for k in model.keys():\n",
    "                if location!=k:\n",
    "                    model[k][1] += 1\n",
    "            return 'W'\n",
    "        \n",
    "    return Agent(name, agent_function)  \n",
    "\n",
    "class PerformanceVacuumEnvironment(Environment):\n",
    "\n",
    "    def __init__(self, width, height):\n",
    "        self.width = width-1    # relative to 0, so subtract 1\n",
    "        self.height = height-1\n",
    "        self.things = []\n",
    "        self.agents = []\n",
    "        self.p_dirt = 0.1\n",
    "\n",
    "    def percepts(self, agent):\n",
    "        ''' the percept is a tuple of (location, status) '''\n",
    "        status = 'Dirty' if any([isinstance(item, Dirt) \n",
    "                                 for item in room.things_at(location=agent.location)]) else 'Clean'\n",
    "        return (agent.location, status)\n",
    "\n",
    "    def execute_action(self, agent, action):\n",
    "        ''' override the default execute_action in Environment class, so that\n",
    "        for the Roomba we remove '''\n",
    "        if action in ['N','S','E','W']:\n",
    "            bump = self.move(agent, action)\n",
    "            agent.performance -= 1\n",
    "        elif action == 'Vacuum':\n",
    "            messes = [thing for thing in room.things_at(roomba.location) if isinstance(thing, Dirt)]\n",
    "            if messes:\n",
    "                agent.holding.append(messes[0])\n",
    "                self.remove_thing(messes[0])\n",
    "                agent.performance += 10\n",
    "        elif action == 'Drop':\n",
    "            if agent.holding:\n",
    "                dropped = agent.holding.pop()\n",
    "                self.add_thing(thing=dropped, location=agent.location)\n",
    "                \n",
    "    def step(self, quiet):\n",
    "        '''run one time step of the environment; assumes a single agent'''\n",
    "        if not self.is_done():\n",
    "            # assuming a single agent here!\n",
    "            agent = self.agents[0]\n",
    "            action = agent.function(self.percepts(agent))\n",
    "            if not quiet:\n",
    "                print('Agent {} executes action {} at location {}'.format(agent.name, action, agent.location))\n",
    "            self.execute_action(agent, action)\n",
    "            # generate new dirt, maybe\n",
    "            for x in range(self.width+1):\n",
    "                for y in range(self.height+1):\n",
    "                    updateStatus = np.random.choice(['Clean','Dirty'], p=[1-self.p_dirt, self.p_dirt])\n",
    "                    if updateStatus=='Dirty':\n",
    "                        self.add_thing(Dirt(), (x,y))\n",
    "                        if not quiet:\n",
    "                            print('Dirt appeared at ({},{})!'.format(x,y))"
   ]
  },
  {
   "cell_type": "markdown",
   "metadata": {},
   "source": [
    "There should be a relationship between the agent's performance, the frequency with which new dirt stochastically appears (`p_dirt`), and your `NoOp` action strategy (which avoids excessive moving around).  This might be easiest to think about in terms of the limiting cases:\n",
    "* What should be the agent's `NoOp` strategy if `p_dirt` = 1?\n",
    "* What should be the agent's `NoOp` strategy if `p_dirt` = 0?\n",
    "\n",
    "Note that we don't have any control over `p_dirt`; it is a property of how filthy our living conditions are. All we can do is specify the Roomba's `NoOp` strategy (waiting time before circling back to check for new dirt) as best we can.\n",
    "\n",
    "So, try a few very long simulations (you might want to suppress the printed output for these) with different combinations of `NoOp` strategy and `p_dirt` values.  For a couple different values of `p_dirt`, what do you find to be the optimal `NoOp` strategies? That is, what waiting time (once the agent knows it has cleaned everything) will maximize the agent's performance?"
   ]
  },
  {
   "cell_type": "code",
   "execution_count": null,
   "metadata": {},
   "outputs": [],
   "source": []
  },
  {
   "cell_type": "code",
   "execution_count": 15,
   "metadata": {},
   "outputs": [
    {
     "data": {
      "image/png": "[encoded data removed]",
      "text/plain": [
       "<Figure size 432x288 with 1 Axes>"
      ]
     },
     "metadata": {
      "needs_background": "light"
     },
     "output_type": "display_data"
    }
   ],
   "source": [
    "# Solution:\n",
    "\n",
    "perf = []\n",
    "wait_limits = [1,2,5,10,20,50,100,200]\n",
    "\n",
    "for w in wait_limits:\n",
    "    room = PerformanceVacuumEnvironment(width=2, height=1)\n",
    "    roomba = ModelBasedRoombaAgent('Rufus', w)\n",
    "    room.add_thing(roomba, (0,0))\n",
    "    room.add_thing(Dirt(), (0,0))\n",
    "    room.add_thing(Dirt(), (1,0))\n",
    "    room.driver(1000, quiet=True)\n",
    "    perf.append(np.mean(roomba.performance))\n",
    "\n",
    "plt.plot(wait_limits, perf)\n",
    "plt.show()"
   ]
  },
  {
   "cell_type": "markdown",
   "metadata": {},
   "source": [
    "**Solution:**\n",
    "\n",
    "Note that your results might vary, depending on your choices for `p_dirt` and the wait limits.  You can also obtain better results by doing this many times and taking the average."
   ]
  },
  {
   "cell_type": "markdown",
   "metadata": {},
   "source": [
    "<br>\n",
    "\n",
    "<a/ id='p1c'></a>\n",
    "\n",
    "### (1c)\n",
    "\n",
    "Let's continue to build this up! We can make things a bit more interesting by increasing the size of the room. Add the following features to your codes from **(1b)**:\n",
    "* Try a 2x2 room first.\n",
    "* In the example codes, Roomba knew the geography of the environment (i.e., that it is a 2x1 room), so it knew the options for moving around.\n",
    "  * As a first attempt for your 2x2 room, make this assumption.  Thus, the Roomba's choices of action to execute will depend on its sensed location.\n",
    "    * Note that if Roomba is at (0,0), and senses that this tile is clean, but has no information about (1,0) or (0,1), then it should choose at random where to go next. A modification of the `np.random.choice` function call above can take care of this.\n",
    "  * Once that seems to work, try to incorporate the fact that the Roomba typically does not know a priori what the shape of the room is. \n",
    "    * The easiest first step to build this into your model is to have Roomba sense its environment: if dirty, then clean the tile; if clean, then move randomly. (This is how I clean my apartment.)\n",
    "    * Then you can try building a **map** of the room as part of the Roomba's model. So as the random-movement Roomba flails around, it will sometimes bump into a wall.  But if it senses a bump, then Roomba can *learn* where the walls are, and what the available actions are depending on where in the room it is.\n",
    "    * Holy heck, we just built a *learning* model-based agent!\n",
    "* Once your Roomba is successfully tidying up a 2x1 or 2x2 room, go bigger!\n",
    "* It might be useful to note that the only thing that really needs to change is your `agent_function`, which maps percepts to actions. The `VacuumEnvironment` class is already able to handle arbitrary-sized rooms. So selecting an action will need to be modified, as well as how the agent builds its internal model of the task environment."
   ]
  },
  {
   "cell_type": "code",
   "execution_count": 16,
   "metadata": {},
   "outputs": [],
   "source": [
    "roo = PerformanceVacuumEnvironment(width=2,height=2)"
   ]
  },
  {
   "cell_type": "code",
   "execution_count": 17,
   "metadata": {},
   "outputs": [],
   "source": [
    "roomba2 = ModelBasedRoombaAgent('boi',200)"
   ]
  },
  {
   "cell_type": "code",
   "execution_count": 19,
   "metadata": {},
   "outputs": [
    {
     "name": "stdout",
     "output_type": "stream",
     "text": [
      "Agent boi executes action Vacuum at location (0, 0)\n",
      "Agent boi executes action Vacuum at location (0, 0)\n",
      "Dirt appeared at (1,1)!\n",
      "Agent boi executes action Vacuum at location (0, 0)\n",
      "Agent boi executes action Vacuum at location (0, 0)\n",
      "Agent boi executes action Vacuum at location (0, 0)\n",
      "Agent boi executes action Vacuum at location (0, 0)\n",
      "Dirt appeared at (0,1)!\n",
      "Agent boi executes action Vacuum at location (0, 0)\n",
      "Agent boi executes action Vacuum at location (0, 0)\n",
      "Dirt appeared at (1,0)!\n",
      "Agent boi executes action Vacuum at location (0, 0)\n",
      "Agent boi executes action Vacuum at location (0, 0)\n"
     ]
    }
   ],
   "source": [
    "roo.add_thing(roomba2,location=(0,0))\n",
    "roo.add_thing(Dirt(),location=(0,0))\n",
    "roo.add_thing(Dirt(),location=(1,0))\n",
    "\n",
    "\n",
    "roo.driver(10)"
   ]
  },
  {
   "cell_type": "markdown",
   "metadata": {},
   "source": [
    "<br>\n",
    "\n",
    "<a/ id='p1d'></a>\n",
    "\n",
    "### (1d)\n",
    "\n",
    "Let's add two more related details that will really make this Roomba more realistic.\n",
    "* Roombas have a certain amount of **charge**, which depletes as time goes on. You could incorporate this into the model in a few different ways. Use your ingenuity and creativity to decide how to implement this! If you get stuck, ask other groups or ask me.\n",
    "  * This means that your Roomba is going to need a particular location as a charging spot, and should return to it every so often.\n",
    "  * It is probably reasonable to assume that your Roomba knows how long (how many time steps) it takes to deplete its battery. As part of Roomba's model, it should keep track of how long it will take to return to the charging port and how much battery life remains.\n",
    "  * If the battery falls below a critical point, return to base!\n",
    "  * What should happen if the battery is fully depleted?\n",
    "* Roombas also can only hold a **finite amount of dirt**.\n",
    "  * If the dirt gets \"full\" (you will need to implement some dirt limit as part of the agent), then the Roomba can't vacuum anymore and needs to return to the charging port to dump its dirt."
   ]
  },
  {
   "cell_type": "code",
   "execution_count": null,
   "metadata": {},
   "outputs": [],
   "source": []
  }
 ],
 "metadata": {
  "kernelspec": {
   "display_name": "Python 3",
   "language": "python",
   "name": "python3"
  },
  "language_info": {
   "codemirror_mode": {
    "name": "ipython",
    "version": 3
   },
   "file_extension": ".py",
   "mimetype": "text/x-python",
   "name": "python",
   "nbconvert_exporter": "python",
   "pygments_lexer": "ipython3",
   "version": "3.6.4"
  }
 },
 "nbformat": 4,
 "nbformat_minor": 2
}
