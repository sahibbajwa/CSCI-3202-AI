{
 "cells": [
  {
   "cell_type": "markdown",
   "metadata": {},
   "source": [
    "## <a id='top'></a>\n",
    "\n",
    "# CSCI 3202, Fall 2020\n",
    "# Assignment 1\n",
    "# Due: Friday 11 September 2020 by 11:59 PM\n",
    "\n",
    "<br> \n",
    "\n",
    "### Your name:\n",
    "Sahib Bajwa\n",
    "\n",
    "<br> "
   ]
  },
  {
   "cell_type": "markdown",
   "metadata": {},
   "source": [
    "---\n",
    "\n",
    "Some useful helper functions and packages are loaded at [the bottom of this notebook](#helpers). Go execute those cells before proceeding."
   ]
  },
  {
   "cell_type": "markdown",
   "metadata": {},
   "source": [
    "---\n",
    "\n",
    "## Problem 1\n",
    "\n",
    "### Warm-up: practice with Markdown, Jupyter and Python troubleshooting\n",
    "\n",
    "Python is a great language because of its flexibility and efficiency. Jupyter notebooks are a great tool because they allow the seamless integration of codes and nicely formatted text and equations.\n",
    "\n",
    "### (1a)\n",
    "\n",
    "You can use the toolbar at the top of the screen to create new cells. To create a new cell below this one, click on this cell so that a blue vertical bar appears to the left. Then, in the toolbar at the top of the screen, click `Insert` and `Insert Cell Below`. (You can also use the hotkey `b` while this cell is selected, to create a new cell below.)\n",
    "\n",
    "The cell will default as a code cell, in which you can write and execute Python 3 code. (NB: Jupyter also supports (e.g.) Julia and R code; at the top-right of the screen, you'll see some blue and yellow snakes indicating that this notebook is Python 3. Oh, and the words \"Python 3\" also give it away.) The cell you are currently reading is a Markdown cell, in which you can write pretty text and equations.\n",
    "\n",
    "In your new code cell below, write a function `combine` with the following specifications.\n",
    "* The arguments to `combine` are two real numbers.\n",
    "* `combine` prints to screen the larger in magnitude (absolute value) of the two numbers. If the two numbers are equal in magnitude, then print that number.\n",
    "* As output, return the absolute value of the product of the two numbers."
   ]
  },
  {
   "cell_type": "code",
   "execution_count": 288,
   "metadata": {},
   "outputs": [],
   "source": [
    "def combine(x, y):\n",
    "    \n",
    "    x1 = abs(x)\n",
    "    y1 = abs(y)\n",
    "    \n",
    "    if x1 == y1:\n",
    "        print(x1)\n",
    "        \n",
    "    elif x1 > y1:\n",
    "        print(x1)\n",
    "        \n",
    "    elif x1 < y1:\n",
    "        print(y1)\n",
    "        \n",
    "    return(x1 * y1)\n",
    "        "
   ]
  },
  {
   "cell_type": "markdown",
   "metadata": {},
   "source": [
    "#### Test cases:\n",
    "You can execute the cell below to run a simple test case for your `combine` function. This can give you a sense of how you can test your codes before proceeding through assignment problems that build on previous parts."
   ]
  },
  {
   "cell_type": "code",
   "execution_count": 289,
   "metadata": {},
   "outputs": [
    {
     "name": "stdout",
     "output_type": "stream",
     "text": [
      "4\n",
      "10\n",
      "Passed test case\n"
     ]
    }
   ],
   "source": [
    "print('Passed test case') if (combine(-2,4)==8) & (combine(10,10)==100) else print('Failed test case')"
   ]
  },
  {
   "cell_type": "markdown",
   "metadata": {},
   "source": [
    "#### Test cases, rebooted:\n",
    "These test cases could have also been executed using a couple `assert` statements as follows.  If you are unfamiliar with these commands in Python, you may find it useful to play around with the codes and see what happens when you intentionally fail a test case."
   ]
  },
  {
   "cell_type": "code",
   "execution_count": 290,
   "metadata": {},
   "outputs": [
    {
     "name": "stdout",
     "output_type": "stream",
     "text": [
      "4\n",
      "10\n"
     ]
    }
   ],
   "source": [
    "assert combine(-2,4)==8, 'Failed test case'\n",
    "assert combine(10,10)==100, 'Failed test case'"
   ]
  },
  {
   "cell_type": "markdown",
   "metadata": {},
   "source": [
    "#### Test cases, one more time:\n",
    "Those test cases could have also been implemented using Python's `unittest` package. Below is a simple example.  Again, if you are unfamiliar with these routines, it will be useful to play around with modifying the code to see what happens when you \"break\" it in a known way."
   ]
  },
  {
   "cell_type": "code",
   "execution_count": 291,
   "metadata": {},
   "outputs": [
    {
     "name": "stderr",
     "output_type": "stream",
     "text": [
      "."
     ]
    },
    {
     "name": "stdout",
     "output_type": "stream",
     "text": [
      "4\n",
      "10\n"
     ]
    },
    {
     "name": "stderr",
     "output_type": "stream",
     "text": [
      "\n",
      "----------------------------------------------------------------------\n",
      "Ran 1 test in 0.002s\n",
      "\n",
      "OK\n"
     ]
    },
    {
     "data": {
      "text/plain": [
       "<unittest.runner.TextTestResult run=1 errors=0 failures=0>"
      ]
     },
     "execution_count": 291,
     "metadata": {},
     "output_type": "execute_result"
    }
   ],
   "source": [
    "# set up the tests to run, as a sub-class of the unittest 'TestCase' class\n",
    "class Tests_Problem1(unittest.TestCase):\n",
    "    def test_combine(self):\n",
    "        self.assertEqual(combine(-2,4), 8)\n",
    "        self.assertEqual(combine(10,10), 100)\n",
    "\n",
    "# instantiation of your tests\n",
    "tests = Tests_Problem1()\n",
    "\n",
    "# load the tests\n",
    "tests_to_run = unittest.TestLoader().loadTestsFromModule(tests)\n",
    "\n",
    "# run the tests\n",
    "unittest.TextTestRunner().run(tests_to_run)"
   ]
  },
  {
   "cell_type": "markdown",
   "metadata": {},
   "source": [
    "### Conclusion: test cases\n",
    "\n",
    "Now we have seen three different ways to implement test cases. They varied from the most informal (the `print` statement) to the most formal (the `unittest` package). Implementing your own test cases as you develop codes is a good idea, and the `print` or `assert` statements are a nice and simple way to do this.\n",
    "\n",
    "I will generally provide `unittest` test cases at the end of each problem or assignment, so you have a sense of whether or not your code is working. The test cases for the remaining problems on this assignment will be defined at the bottom of the notebook, but code to run them will be provided within each problem (so you do not need to keep scrolling up and down the darn thing). The `unittest` framework is nice because it is modular and can be broken up into test cases for individual sections of codes. Of course, we could implement these test cases in `CodeRunner`, but learning how to implement `unittest`s in Jupyter is a useful skill.\n",
    "\n",
    "Note that for grading, we will often run your code through hidden test cases as well."
   ]
  },
  {
   "cell_type": "markdown",
   "metadata": {},
   "source": [
    "### (1b)\n",
    "\n",
    "Now let's play around with using the Markdown cells.  Create another new cell below this one, so we can include some text describing our nice `combine` function.\n",
    "\n",
    "Now we will need to change the newly-created cell from a code cell to a Markdown cell. You can do this in one of two ways:\n",
    "1. select the cell; click `Cell` in the toolbar, then `Cell Type`, and finally `Markdown`\n",
    "2. select the cell; push `m` (Note that this only works if you are not in \"edit\" mode, which is indicated by the color of the vertical bar on the left side of the cell. If you are in \"edit\" mode, then this bar will be green. To escape from \"edit\" mode, you can (appropriately) hit the `esc` key. The green bar should change to blue to reflect this.)\n",
    "\n",
    "Create the new cell, convert it to a Markdown cell, and then enter some text to describe your `combine` function. Initially, the cell looks like a raw text editor. If you execute the cell by using `Shift`+`Enter`, then it will become nicely formatted.\n",
    "\n",
    "**Useful tip:**  You can double-click on these existing Markdown cells (e.g., all of the instructions) in order to see some examples of how to format outlines, (sub)titles, **boldface**, *italics*, and so forth."
   ]
  },
  {
   "cell_type": "markdown",
   "metadata": {},
   "source": [
    "My combine function takes in two numbers, x and y, initially. It then takes the absolute value of both variables and stores them in x1 and y1 accordingly. My function then does several if/elif staements to see which of the variables is larger or if they are equal, and prints the larger/equal variable. I then return the result of x1 * y1 and do not have to take the absolute value of the result due to x1 and y1 already being absolute values."
   ]
  },
  {
   "cell_type": "markdown",
   "metadata": {},
   "source": [
    "### (1c)\n",
    "\n",
    "Another nice feature of Jupyter notebooks is the LaTeX support, which enables nice equations and a whole suite of symbols and formatting options. That's great news for math/stats-heavy fields such as Artifical Intelligence!\n",
    "\n",
    "Here is an example of an equation: $x^2 + \\beta^2 = \\frac{1}{2}$\n",
    "\n",
    "In the cell below, provide your favorite mathematical equation (or system of equations!) and a brief explanation of why it's your favorite. Of course, you should format it nicely in LaTeX - it is your favorite equation after all."
   ]
  },
  {
   "cell_type": "markdown",
   "metadata": {},
   "source": [
    "$y = -b \\pm \\frac{\\sqrt{b^2 - 4ac}}{2a}$  \n",
    "I can always remember the song I learned in middle school that goes along with remembering this equation, so I guess it's my favorite."
   ]
  },
  {
   "cell_type": "markdown",
   "metadata": {},
   "source": [
    "<br><br>\n",
    "\n",
    "---\n",
    "\n",
    "## Problem 2\n",
    "\n",
    "### Classes and stacks in Python: *To Battle!*\n",
    "\n",
    "<img src=\"https://cdn.bulbagarden.net/upload/thumb/6/60/258Mudkip.png/250px-258Mudkip.png\" alt=\"Drawing\" style=\"width: 200px;\"/>\n",
    "\n",
    "\n",
    "### (2a) \n",
    "\n",
    "Implement a class `Pokemon`, with the following specifications.\n",
    "* A new instantiation of `Pokemon` takes in a single argument for the `name` of the Pokemon.\n",
    "* New Pokemon have an attribute `Pokemon`, which will be a list of the Pokemon's learned skills.\n",
    "* New Pokemon have a Boolean attribute `isFainted`.\n",
    "* New Pokemon have a character string attribute `name`, which is assigned the value passed into the instantiation.\n",
    "* New Pokemon are not fainted and have no skills.\n",
    "\n",
    "Pokemon have the following methods.\n",
    "* `learn(char string)`: push a new skill to the end of the Pokemon's list of skills\n",
    "* `forget()`: sometimes Pokemon forget things too! Pop off the last skill the Pokemon learned. If the Pokemon has no skills, return \"Pokemon has no skills!\"\n",
    "* `checkSkills()`: return an integer representing the number of unique skills the Pokemon has\n",
    "* `battle(other_poke)`: the given Pokemon battles another Pokemon (`other_poke`), who is input to the `battle` method. The winner of the battle is the Pokemon who possesses more (unique) skills. The loser of the battle faints. This method should return the name of the winner of the battle. If the battle is a tie, return \"Tie\" (and no fainting). Additionally, your `battle` routine should:\n",
    "  * Print \"[name] wins the battle.\", where `[name]` is replaced by the name of the winning Pokemon.\n",
    "  * If there is a tie, print \"The battle results in a tie.\""
   ]
  },
  {
   "cell_type": "code",
   "execution_count": 292,
   "metadata": {},
   "outputs": [],
   "source": [
    "# def Pokemon(name):\n",
    "#     skills = []\n",
    "#     isFaited = False\n",
    "#     name = name\n",
    "\n",
    "#from collections import counter\n",
    "\n",
    "#https://www.w3schools.com/python/python_classes.asp\n",
    "#http://zetcode.com/lang/python/lists/#:~:text=We%20have%20three%20methods%20to,insert()%20%2C%20and%20extend()%20.&text=An%20empty%20list%20is%20created.&text=The%20append()%20method%20adds,list%3B%20we%20append%20two%20strings.&text=The%20insert()%20method%20places,indicated%20by%20the%20index%20number.\n",
    "#https://www.geeksforgeeks.org/count-distinct-elements-in-an-array-in-python/\n",
    "##https://www.kite.com/python/answers/how-to-count-the-number-of-unique-values-in-a-list-in-python\n",
    "\n",
    "\n",
    "class Pokemon:\n",
    "    def __init__(self, name):\n",
    "        self.name = name\n",
    "        self.skills = []\n",
    "        self.isFainted = False\n",
    "        \n",
    "    def learn(self, newSkill):\n",
    "        #self.skills.insert(len(self.skills) - 1, newSkill)\n",
    "        self.skills.append(newSkill)\n",
    "        \n",
    "    def forget(self):\n",
    "        \n",
    "        if(len(self.skills) == 0):\n",
    "            return(\"Pokemon has no skills!\")\n",
    "        \n",
    "        else: \n",
    "            #return self.skills.pop(len(self.skills) - 1)\n",
    "            return self.skills.pop()\n",
    "            \n",
    "    def checkSkills(self):\n",
    "        setSkills = set(self.skills)\n",
    "        return(len(setSkills))\n",
    "    \n",
    "    def battle(self, other_poke):\n",
    "        \n",
    "        if(self.checkSkills() == other_poke.checkSkills()):\n",
    "            print(\"The battle results in a tie\")\n",
    "            return(\"Tie\")\n",
    "        \n",
    "        elif(self.checkSkills() > other_poke.checkSkills()):\n",
    "            print(self.name + \" wins the battle.\")\n",
    "            other_poke.isFainted = True\n",
    "            return(self.name)\n",
    "        \n",
    "        elif(self.checkSkills() < other_poke.checkSkills()):\n",
    "            print(other_poke.name + \" wins the battle\")\n",
    "            self.isFainted = True\n",
    "            return(other_poke.name)\n",
    "        \n",
    "        \n",
    "    "
   ]
  },
  {
   "cell_type": "markdown",
   "metadata": {},
   "source": [
    "### (2b)\n",
    "\n",
    "Create two Pokemon:\n",
    "* One named \"Mudkip\" who has learned (in this order) the skills: (1) Water Gun, (2) Splash, (3) pandas and (4) Adorability\n",
    "* One named \"Koffing\" who has learned (in this order) the skills: (1) Coffeeing, (2) scipy, (3)  Poison and (4) Coffeeing (Koffing likes coffee so much that he mastered it twice!)"
   ]
  },
  {
   "cell_type": "code",
   "execution_count": 293,
   "metadata": {},
   "outputs": [],
   "source": [
    "Mudkip = Pokemon(\"Mudkip\")\n",
    "Mudkip.learn(\"Water Gun\")\n",
    "Mudkip.learn(\"Splash\")\n",
    "Mudkip.learn(\"pandas\")\n",
    "Mudkip.learn(\"Adorability\")\n",
    "\n",
    "Koffing = Pokemon(\"Koffing\")\n",
    "Koffing.learn(\"Coffeeing\")\n",
    "Koffing.learn(\"spicy\")\n",
    "Koffing.learn(\"Poison\")\n",
    "Koffing.learn(\"Coffeeing\")"
   ]
  },
  {
   "cell_type": "markdown",
   "metadata": {},
   "source": [
    "### (2c)\n",
    "\n",
    "Have Mudkip and Koffing battle."
   ]
  },
  {
   "cell_type": "code",
   "execution_count": 294,
   "metadata": {},
   "outputs": [
    {
     "name": "stdout",
     "output_type": "stream",
     "text": [
      "Mudkip wins the battle.\n"
     ]
    },
    {
     "data": {
      "text/plain": [
       "'Mudkip'"
      ]
     },
     "execution_count": 294,
     "metadata": {},
     "output_type": "execute_result"
    }
   ],
   "source": [
    "Mudkip.battle(Koffing)"
   ]
  },
  {
   "cell_type": "markdown",
   "metadata": {},
   "source": [
    "### (2d)\n",
    "\n",
    "Enter below as Markdown text (**not** as a code cell) a sentence declaring how many skills Koffing should have. Note that you will need to **add a cell** between this one and the following code cell. Then, in the provided code cell, check that he in fact has this number of skill."
   ]
  },
  {
   "cell_type": "markdown",
   "metadata": {},
   "source": [
    "Koffing has 4 elements in his list of skills, but since Coffeeing is repeated (2 instances), Koffing technically has 3 skills total."
   ]
  },
  {
   "cell_type": "code",
   "execution_count": 295,
   "metadata": {},
   "outputs": [
    {
     "name": "stdout",
     "output_type": "stream",
     "text": [
      "3\n"
     ]
    }
   ],
   "source": [
    "print(Koffing.checkSkills())"
   ]
  },
  {
   "cell_type": "markdown",
   "metadata": {},
   "source": [
    "You just implemented a **stack** for Pokemon skills. Good work, trainer!"
   ]
  },
  {
   "cell_type": "markdown",
   "metadata": {},
   "source": [
    "### Test cases\n",
    "\n",
    "Note that these test cases are independent of the tasks assigned above. The actual `Tests_Problem2()` unittests are defined at the end of the notebook."
   ]
  },
  {
   "cell_type": "code",
   "execution_count": 296,
   "metadata": {},
   "outputs": [
    {
     "name": "stderr",
     "output_type": "stream",
     "text": [
      "..."
     ]
    },
    {
     "name": "stdout",
     "output_type": "stream",
     "text": [
      "The battle results in a tie\n",
      "Mudkip wins the battle\n"
     ]
    },
    {
     "name": "stderr",
     "output_type": "stream",
     "text": [
      "\n",
      "----------------------------------------------------------------------\n",
      "Ran 3 tests in 0.004s\n",
      "\n",
      "OK\n"
     ]
    },
    {
     "data": {
      "text/plain": [
       "<unittest.runner.TextTestResult run=3 errors=0 failures=0>"
      ]
     },
     "execution_count": 296,
     "metadata": {},
     "output_type": "execute_result"
    }
   ],
   "source": [
    "# instantiate the tests\n",
    "tests = Tests_Problem2()\n",
    "# load the tests\n",
    "tests_to_run = unittest.TestLoader().loadTestsFromModule(tests)\n",
    "# run the tests\n",
    "unittest.TextTestRunner().run(tests_to_run)"
   ]
  },
  {
   "cell_type": "markdown",
   "metadata": {},
   "source": [
    "<br><br>\n",
    "\n",
    "---"
   ]
  },
  {
   "cell_type": "markdown",
   "metadata": {},
   "source": [
    "## Problem 3\n",
    "\n",
    "### Trees and nodes\n",
    "\n",
    "### (3a)\n",
    "\n",
    "Implement a `Node` class with the following attributes and methods.\n",
    "\n",
    "`Node(key, l, r, p)`\n",
    "* `key`: an integer key to uniquely identify each node in a graph (input during instantiation)\n",
    "* `left_child`: an integer key identifying the left child of the given node  (input `l` during instantiation)\n",
    "* `right_child`: an integer key identifying the right child of the given node (input `r` during instantiation)\n",
    "* `parent`: an integer key identifying the parent of the given node (input `p` during instantiation)\n",
    "* `getChildren()`: returns a list of two elements, the left and right children the given node (in that order)\n",
    "\n",
    "Note that you should appropriately specify default arguments to cover the cases where the node does not have a left/right child or a parent.\n",
    "\n",
    "Also note that your code for `getChildren()` should return a list of two `Node` objects as the children, *not* their keys."
   ]
  },
  {
   "cell_type": "code",
   "execution_count": 297,
   "metadata": {},
   "outputs": [],
   "source": [
    "#https://www.programiz.com/python-programming/function-argument#:~:text=are%20described%20below.-,Python%20Default%20Arguments,person%20with%20the%20provided%20message.\n",
    "#https://realpython.com/null-in-python/\n",
    "\n",
    "class Node:\n",
    "    def __init__(self, key, l = None, r = None, p = None):\n",
    "        self.key = key\n",
    "        self.left_child = l\n",
    "        self.right_child = r\n",
    "        self.parent = p\n",
    "        \n",
    "    def getChildren(self):\n",
    "        childList = [self.left_child, self.right_child]\n",
    "        return(childList)"
   ]
  },
  {
   "cell_type": "markdown",
   "metadata": {},
   "source": [
    "### (3b)\n",
    "\n",
    "This problem will build on your `Node` class from (3a), so make sure that code is working properly.\n",
    "\n",
    "Below is some code to construct binary trees. It's pretty nice, but is missing a critical method: one that allows you to `add` a new node. Implement an `add` method for the `Node` class; put your code in the space indicated in the code block below. You new `add` method should adhere to the following specifications.\n",
    "\n",
    "`add(key, parentKey)`\n",
    "* `key` is the key value for the new node\n",
    "* `parentKey` is the key value of the parent\n",
    "* if `parentKey` is not found in the tree, then print the message: \"Parent not found.\"\n",
    "* if the `parentKey` is found in the tree, then:\n",
    "  * add the new node as the left child if the parent has no children\n",
    "  * add the new node as the right child if the parent has a left child only\n",
    "  * don’t add the node if the parent already has two children. Instead, print the message: \"Parent has two children, node not added.\"\n",
    "* if a new node is successfully added to the tree, then return `True`; otherwise, return `False`"
   ]
  },
  {
   "cell_type": "code",
   "execution_count": 298,
   "metadata": {},
   "outputs": [],
   "source": [
    "class Tree:\n",
    "    \n",
    "    def __init__(self, rootkey):\n",
    "        #create a new tree while setting root\n",
    "        self.root = Node(rootkey, None, None, None)\n",
    "\n",
    "    def checkTree(self, key, parentKey, root):\n",
    "        #Recursive function that searches through tree to find if parentKey exists\n",
    "        # note that 'root' input is not necessarily the root of the tree ('self')\n",
    "        # 'root' is just where to start looking for the right parentKey to add this new node\n",
    "        if root == None:\n",
    "            #if there is no root in tree\n",
    "            return False\n",
    "        if root.key == parentKey:\n",
    "            if root.left_child == None or root.right_child == None:\n",
    "                # the node 'root' is the parent you should add the new child node to\n",
    "                return root \n",
    "            else:\n",
    "                print(\"Parent has two children, node not added.\")\n",
    "                return False\n",
    "        else:\n",
    "            for child in root.getChildren():\n",
    "                # check 'root' node's children if they are the parent you're looking for\n",
    "                add_temp = self.checkTree(key, parentKey, child)\n",
    "                if add_temp:\n",
    "                    return add_temp\n",
    "\n",
    "                \n",
    "# YOUR CODE GOES HERE\n",
    "#https://realpython.com/null-in-python/\n",
    "\n",
    "#create a new tree while setting root\n",
    "        #self.root = Node(rootkey, None, None, None)\n",
    "\n",
    "    def add(self, key, parentKey):\n",
    "        \n",
    "        trueParent = self.checkTree(key, parentKey, self.root)\n",
    "        \n",
    "        if(trueParent == False):\n",
    "            print(\"Parent not found.\")\n",
    "            return False\n",
    "        \n",
    "        else:\n",
    "            \n",
    "            if(trueParent.left_child == None):\n",
    "                trueParent.left_child = Node(key, None, None, trueParent)\n",
    "                return True\n",
    "\n",
    "            elif(trueParent.right_child == None):\n",
    "                trueParent.right_child = Node(key, None, None, trueParent)\n",
    "                return True\n",
    "            \n",
    "            #Note to self, & does not work in python. Make sure to use 'and' from now on.\n",
    "            else:\n",
    "                print(\"Parent has two children, node not added.\")\n",
    "                return False\n",
    "\n",
    "    def findNodeDelete(self, key, root):\n",
    "        if root == None:\n",
    "            return False\n",
    "        if key == root.key:\n",
    "            if root.left_child == None and root.right_child == None:\n",
    "                if root.parent.left_child.key == key:\n",
    "                    root.parent.left_child = None\n",
    "                elif root.parent.right_child.key == key:\n",
    "                    root.parent.right_child = None\n",
    "                root = None\n",
    "                return True\n",
    "            else:\n",
    "                print(\"Node not deleted, has children\")\n",
    "                return False\n",
    "        else:\n",
    "            for child in root.getChildren():\n",
    "                delete_node = self.findNodeDelete(key, child)\n",
    "                if delete_node:\n",
    "                    return delete_node\n",
    "\n",
    "    def delete(self, key):\n",
    "        if self.root == None:\n",
    "            self.root = Node(key, None, None, None)\n",
    "        if key == self.root.key:\n",
    "            if self.root.left_child == None and self.root.right_child == None:\n",
    "                self.root = None\n",
    "                return True\n",
    "            else:\n",
    "                print(\"Node not deleted, has children\")\n",
    "                return False\n",
    "        else:\n",
    "            for child in self.root.getChildren():\n",
    "                delete_node = self.findNodeDelete(key, child)\n",
    "                if delete_node:\n",
    "                    return delete_node\n",
    "\n",
    "        print(\"Parent not found.\" )\n",
    "        return False\n",
    "\n",
    "    def printTree(self):\n",
    "        if self.root != None:\n",
    "            print(self.root.key)\n",
    "            for child in self.root.getChildren():\n",
    "                self.printBranch(child)\n",
    "        else: \n",
    "            return\n",
    "        \n",
    "    def printBranch(self, root):\n",
    "        if root == None:\n",
    "            return\n",
    "        else:\n",
    "            print(root.key)\n",
    "            for child in root.getChildren():\n",
    "                self.printBranch(child)"
   ]
  },
  {
   "attachments": {
    "image.png": {
     "image/png": "[encoded data removed]"
    }
   },
   "cell_type": "markdown",
   "metadata": {},
   "source": [
    "### (3c)\n",
    "\n",
    "Use your `Tree` class to create an object representing the following binary tree. The numbers inside the vertices represent the node keys. The first line of code you get for free!\n",
    "\n",
    "![image.png](attachment:image.png)"
   ]
  },
  {
   "cell_type": "code",
   "execution_count": 299,
   "metadata": {
    "scrolled": true
   },
   "outputs": [
    {
     "data": {
      "text/plain": [
       "True"
      ]
     },
     "execution_count": 299,
     "metadata": {},
     "output_type": "execute_result"
    }
   ],
   "source": [
    "tree = Tree(0)\n",
    "# YOUR CODE GOES HERE\n",
    "\n",
    "#    def printTree(self):\n",
    "#         if self.root != None:\n",
    "#             print(self.root.key)\n",
    "#             for child in self.root.getChildren():\n",
    "#                 self.printBranch(child)\n",
    "#         else: \n",
    "#             return\n",
    "\n",
    "\n",
    "\n",
    "tree.add(1, 0)\n",
    "# print(1)\n",
    "\n",
    "tree.add(3, 1)\n",
    "# print(2)\n",
    "\n",
    "tree.add(6, 3)\n",
    "# print(3)\n",
    "\n",
    "tree.add(7, 3)\n",
    "# print(4)\n",
    "\n",
    "tree.add(2, 0)\n",
    "# print(5)\n",
    "\n",
    "tree.add(4, 2)\n",
    "# print(6)\n",
    "\n",
    "tree.add(5, 2)\n",
    "# print(7)\n",
    "\n",
    "tree.add(8, 5)\n",
    "# print(8)\n",
    "\n",
    "tree.add(10, 8)\n",
    "# print(9)\n",
    "\n",
    "tree.add(11, 8)\n",
    "# print(10)\n",
    "\n",
    "tree.add(9, 5)\n",
    "# print(11)\n",
    "\n",
    "# Note to self, this prints \"True\" because the last thing returned from tree.add(9, 5) is \"True\", I think??\n",
    "# tree.printTree()"
   ]
  },
  {
   "cell_type": "markdown",
   "metadata": {},
   "source": [
    "### Test cases\n",
    "\n",
    "Note that these test cases are independent of the tasks above. The actual `Tests_Problem3()` are defined at the end of this notebook."
   ]
  },
  {
   "cell_type": "code",
   "execution_count": 300,
   "metadata": {},
   "outputs": [
    {
     "name": "stderr",
     "output_type": "stream",
     "text": [
      "..."
     ]
    },
    {
     "name": "stdout",
     "output_type": "stream",
     "text": [
      "Parent has two children, node not added.\n",
      "Parent not found.\n"
     ]
    },
    {
     "name": "stderr",
     "output_type": "stream",
     "text": [
      "\n",
      "----------------------------------------------------------------------\n",
      "Ran 3 tests in 0.003s\n",
      "\n",
      "OK\n"
     ]
    },
    {
     "data": {
      "text/plain": [
       "<unittest.runner.TextTestResult run=3 errors=0 failures=0>"
      ]
     },
     "execution_count": 300,
     "metadata": {},
     "output_type": "execute_result"
    }
   ],
   "source": [
    "# instantiation of your tests\n",
    "tests = Tests_Problem3()\n",
    "# load the tests\n",
    "tests_to_run = unittest.TestLoader().loadTestsFromModule(tests)\n",
    "# run the tests\n",
    "unittest.TextTestRunner().run(tests_to_run)"
   ]
  },
  {
   "cell_type": "markdown",
   "metadata": {},
   "source": [
    "<br><br>\n",
    "\n",
    "---\n",
    "\n",
    "\n",
    "## Problem 4\n",
    "\n",
    "### Graphs\n",
    "\n",
    "### (4a)\n",
    "\n",
    "Below is a partial `Graph` class implementation. There is a method to add a vertex to the graph, `addVertex`, but the code is missing functionality to add an edge or find a vertex. Modify the `Graph` class to include methods to add an edge and find a vertex by its value. Specifically:\n",
    "\n",
    "`addEdge(key1, key2)`\n",
    "* This method takes the key values of two vertices in the graph and adds an edge between them. If one or both of the vertices don’t exist in the graph, the method should print a message, \"One or more vertices not found.\" and do not add any edges.\n",
    "\n",
    "`findVertex(key)`\n",
    "* This method takes the key value of the vertex to search for, and if it’s found in the graph, prints and returns the key values of its adjacent vertices."
   ]
  },
  {
   "cell_type": "code",
   "execution_count": 301,
   "metadata": {},
   "outputs": [],
   "source": [
    "class Graph:\n",
    "    \n",
    "    def __init__(self):\n",
    "        self.vertices = {}\n",
    "\n",
    "    def addVertex(self, key):\n",
    "        # check if key value already exists\n",
    "        if key in self.vertices:\n",
    "            print(\"Vertex already exists\")\n",
    "        else:\n",
    "            self.vertices[key] = []\n",
    "\n",
    "# YOUR CODE GOES HERE \n",
    "#https://thispointer.com/python-how-to-check-if-an-item-exists-in-list-search-by-value-or-condition/\n",
    "#https://www.python-course.eu/graphs_python.php\n",
    "#https://www.kite.com/python/answers/how-to-append-an-element-to-a-key-in-a-dictionary-with-python#:~:text=kite'%5D%7D)-,Use%20standard%20dict()%20operations%20to%20append%20an%20element%20to,dictionary%2C%20simply%20append%20the%20value.\n",
    "\n",
    "    def addEdge(self, key1, key2):\n",
    "        \n",
    "        if(key1 not in self.vertices or key2 not in self.vertices):\n",
    "            print(\"One or more vertices not found.\")\n",
    "            \n",
    "        else:\n",
    "#           self.vertices.append((key1, key2))\n",
    "#           self.vertices.append((key2, key1))\n",
    "            self.vertices[key1].append(key2)\n",
    "            self.vertices[key2].append(key1)\n",
    "            \n",
    "    def findVertex(self, key):\n",
    "        \n",
    "        if(key in self.vertices):\n",
    "            print(self.vertices[key])\n",
    "            return(self.vertices[key])\n",
    "        \n",
    "        elif(key not in self.vertices):\n",
    "            print(\"Vertex not found.\")"
   ]
  },
  {
   "attachments": {
    "image.png": {
     "image/png": "[encoded data removed]"
    }
   },
   "cell_type": "markdown",
   "metadata": {},
   "source": [
    "### (4b)\n",
    "\n",
    "Use your `Graph` class to create an object representing the following undirected graph. The numbers inside the vertices represent the node keys. The first line of code you get for free!\n",
    "\n",
    "![image.png](attachment:image.png)"
   ]
  },
  {
   "cell_type": "code",
   "execution_count": 302,
   "metadata": {},
   "outputs": [],
   "source": [
    "g = Graph()\n",
    "# YOUR CODE GOES HERE\n",
    "\n",
    "g.addVertex(0)\n",
    "g.addVertex(1)\n",
    "g.addVertex(2)\n",
    "g.addVertex(3)\n",
    "g.addVertex(4)\n",
    "g.addVertex(5)\n",
    "g.addVertex(6)\n",
    "\n",
    "g.addEdge(0, 1)\n",
    "g.addEdge(0, 2)\n",
    "g.addEdge(1, 2)\n",
    "g.addEdge(2, 3)\n",
    "g.addEdge(3, 4)\n",
    "g.addEdge(3, 5)\n",
    "g.addEdge(3, 6)\n",
    "g.addEdge(4, 5)\n",
    "g.addEdge(4, 6)\n",
    "\n",
    "# print(g.vertices)"
   ]
  },
  {
   "cell_type": "markdown",
   "metadata": {},
   "source": [
    "### Test cases\n",
    "\n",
    "Note that these test cases are unrelated to the tasks above. The actual test cases are defined at the bottom of the notebook."
   ]
  },
  {
   "cell_type": "code",
   "execution_count": 303,
   "metadata": {},
   "outputs": [
    {
     "name": "stderr",
     "output_type": "stream",
     "text": [
      ".."
     ]
    },
    {
     "name": "stdout",
     "output_type": "stream",
     "text": [
      "[2]\n",
      "[1, 3]\n"
     ]
    },
    {
     "name": "stderr",
     "output_type": "stream",
     "text": [
      "\n",
      "----------------------------------------------------------------------\n",
      "Ran 2 tests in 0.002s\n",
      "\n",
      "OK\n"
     ]
    },
    {
     "data": {
      "text/plain": [
       "<unittest.runner.TextTestResult run=2 errors=0 failures=0>"
      ]
     },
     "execution_count": 303,
     "metadata": {},
     "output_type": "execute_result"
    }
   ],
   "source": [
    "# instantiation of your tests\n",
    "tests = Tests_Problem4()\n",
    "# load the tests\n",
    "tests_to_run = unittest.TestLoader().loadTestsFromModule(tests)\n",
    "# run the tests\n",
    "unittest.TextTestRunner().run(tests_to_run)"
   ]
  },
  {
   "cell_type": "markdown",
   "metadata": {},
   "source": [
    "---\n",
    "\n",
    "<br><br><br>\n",
    "\n",
    "<a id='helpers'></a>\n",
    "\n",
    "---\n",
    "\n",
    "[Back to top](#top)\n",
    "\n",
    "## Some things that are useful\n",
    "\n",
    "### `numpy`\n",
    "\n",
    "Generally, I will include some useful codes and/or packages down here.\n",
    "\n",
    "For this assignment - in particular, the `combine` function - it might be useful to have `numpy` loaded."
   ]
  },
  {
   "cell_type": "code",
   "execution_count": 285,
   "metadata": {},
   "outputs": [],
   "source": [
    "import numpy as np"
   ]
  },
  {
   "cell_type": "markdown",
   "metadata": {},
   "source": [
    "If you have never used Python before, when you import a package like we just did for `numpy`, you now have access to all of the functions in that package.\n",
    "\n",
    "We call a function from a package as follows:"
   ]
  },
  {
   "cell_type": "code",
   "execution_count": 286,
   "metadata": {},
   "outputs": [
    {
     "name": "stdout",
     "output_type": "stream",
     "text": [
      "2.75\n"
     ]
    }
   ],
   "source": [
    "numbers = [0,2,4,5]\n",
    "mean_of_numbers = np.mean(numbers)\n",
    "print(mean_of_numbers)"
   ]
  },
  {
   "cell_type": "markdown",
   "metadata": {},
   "source": [
    "The \"as np\" part of the `import` command means that we do not need to write out `numpy.mean()`; instead we can abbreviate our package names.  This especially comes in handy with longer package names.\n",
    "\n",
    "**Note:** You do not *need* to use `numpy` for any part of this assignment. I only provide it here because (1) it could be useful and I'm sure some folks will ask whether or not they are allowed to use it, and (2) it's a useful example of importing packages in Python."
   ]
  },
  {
   "cell_type": "markdown",
   "metadata": {},
   "source": [
    "### Test cases"
   ]
  },
  {
   "cell_type": "code",
   "execution_count": 287,
   "metadata": {},
   "outputs": [],
   "source": [
    "import unittest\n",
    "\n",
    "# set up the tests to run, as a sub-class of the unittest 'TestCase' class\n",
    "class Tests_Problem2(unittest.TestCase):\n",
    "    def setUp(self):\n",
    "        self.mudkip = Pokemon('Mudkip')\n",
    "        self.koffing = Pokemon('Koffing')\n",
    "        self.mewtwo = Pokemon('Mewtwo')\n",
    "        for skill in ['pool-parties','SayingMud','SayingKip']: self.mudkip.learn(skill)\n",
    "        for skill in ['Stench','Stench','Caffeine']: self.koffing.learn(skill)\n",
    "        for skill in ['Lasers','Memes']: self.mewtwo.learn(skill)\n",
    "    def test_skillset(self):\n",
    "        self.assertEqual(self.koffing.checkSkills(), 2)\n",
    "    def test_battle(self):\n",
    "        self.assertEqual(self.koffing.battle(self.mewtwo), 'Tie')\n",
    "        winner = self.koffing.battle(self.mudkip)\n",
    "        self.assertEqual(self.koffing.isFainted, True)\n",
    "        self.assertEqual(winner, 'Mudkip')\n",
    "    def test_forget(self):\n",
    "        self.assertEqual(self.mudkip.forget(), 'SayingKip')\n",
    "\n",
    "class Tests_Problem3(unittest.TestCase):        \n",
    "    def setUp(self):\n",
    "        # one tree\n",
    "        self.t1 = Tree(1)\n",
    "        rv = self.t1.add(10,1)\n",
    "        # another tree\n",
    "        self.t2 = Tree(-1)\n",
    "        rv = self.t2.add(5,-1)\n",
    "        rv = self.t2.add(6,-1)\n",
    "    def test_node(self):\n",
    "        n = Node(key=1, r=2)\n",
    "        self.assertEqual(n.getChildren(), [None,2])\n",
    "        self.assertEqual(n.key, 1)\n",
    "    def test_tree_add_right(self):\n",
    "        rv = self.t1.add(11,1)\n",
    "        self.assertEqual(rv, True)\n",
    "        self.assertEqual(self.t1.root.left_child.key, 10)\n",
    "        self.assertEqual(self.t1.root.right_child.key, 11)\n",
    "    def test_tree_add_fail(self):\n",
    "        rv = self.t2.add(7,-1)\n",
    "        self.assertEqual(rv, False)\n",
    "        \n",
    "class Tests_Problem4(unittest.TestCase):        \n",
    "    def setUp(self):\n",
    "        self.g = Graph()\n",
    "        for v in range(0,4): self.g.addVertex(v)\n",
    "        self.g.addEdge(1,2)\n",
    "        self.g.addEdge(2,3)\n",
    "    def test_connections(self):\n",
    "        self.assertEqual(self.g.vertices[2], [1,3])\n",
    "        self.assertEqual(self.g.vertices[0], [])\n",
    "    def test_findvertex(self):\n",
    "        self.assertEqual(self.g.findVertex(3), [2])\n",
    "        self.assertEqual(self.g.findVertex(2), [1,3])\n",
    "        "
   ]
  },
  {
   "cell_type": "code",
   "execution_count": null,
   "metadata": {},
   "outputs": [],
   "source": []
  }
 ],
 "metadata": {
  "kernelspec": {
   "display_name": "Python 3",
   "language": "python",
   "name": "python3"
  },
  "language_info": {
   "codemirror_mode": {
    "name": "ipython",
    "version": 3
   },
   "file_extension": ".py",
   "mimetype": "text/x-python",
   "name": "python",
   "nbconvert_exporter": "python",
   "pygments_lexer": "ipython3",
   "version": "3.8.5"
  }
 },
 "nbformat": 4,
 "nbformat_minor": 4
}
